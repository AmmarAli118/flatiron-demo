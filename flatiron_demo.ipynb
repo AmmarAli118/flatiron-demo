{
 "cells": [
  {
   "cell_type": "code",
   "execution_count": 1,
   "metadata": {},
   "outputs": [],
   "source": [
    "import pandas as pd\n",
    "pd.set_option('display.max_columns', None)\n",
    "import missingno as msno\n",
    "import numpy as np\n",
    "import matplotlib.pyplot as plt\n",
    "import seaborn as sns"
   ]
  },
  {
   "cell_type": "markdown",
   "metadata": {},
   "source": [
    "# Prompt\n",
    "## What factors help predict whether or not a school will create a quote? \n",
    "**Note**: Every user who signed up during the 2016-2017 school year got a free trial which expires on June 30, 2017."
   ]
  },
  {
   "cell_type": "markdown",
   "metadata": {},
   "source": [
    "# EDA"
   ]
  },
  {
   "cell_type": "markdown",
   "metadata": {},
   "source": [
    "### users.csv: \n",
    "Includes teacher information from 2000 randomly selected schools in our database, and whether or not they created a quote."
   ]
  },
  {
   "cell_type": "code",
   "execution_count": 2,
   "metadata": {},
   "outputs": [
    {
     "name": "stdout",
     "output_type": "stream",
     "text": [
      "<class 'pandas.core.frame.DataFrame'>\n",
      "RangeIndex: 10181 entries, 0 to 10180\n",
      "Data columns (total 11 columns):\n",
      " #   Column                  Non-Null Count  Dtype \n",
      "---  ------                  --------------  ----- \n",
      " 0   User ID                 10181 non-null  int64 \n",
      " 1   Organization ID         10181 non-null  int64 \n",
      " 2   Organization Type       10181 non-null  object\n",
      " 3   Country                 10013 non-null  object\n",
      " 4   State                   10012 non-null  object\n",
      " 5   NGSS Status             8999 non-null   object\n",
      " 6   Grade level             9829 non-null   object\n",
      " 7   Sign up date            9822 non-null   object\n",
      " 8   Activation date         7749 non-null   object\n",
      " 9   Full Trial expiry date  7879 non-null   object\n",
      " 10  Quote created?          10181 non-null  bool  \n",
      "dtypes: bool(1), int64(2), object(8)\n",
      "memory usage: 805.5+ KB\n"
     ]
    }
   ],
   "source": [
    "users_df = pd.read_csv('./Data/users.csv')\n",
    "users_df.info()"
   ]
  },
  {
   "cell_type": "markdown",
   "metadata": {},
   "source": [
    "### viewings.csv: \n",
    "each of the teachers’ viewings of lessons during the 2016-2017 school year."
   ]
  },
  {
   "cell_type": "code",
   "execution_count": 3,
   "metadata": {},
   "outputs": [
    {
     "name": "stdout",
     "output_type": "stream",
     "text": [
      "<class 'pandas.core.frame.DataFrame'>\n",
      "RangeIndex: 44339 entries, 0 to 44338\n",
      "Data columns (total 14 columns):\n",
      " #   Column                     Non-Null Count  Dtype  \n",
      "---  ------                     --------------  -----  \n",
      " 0   id                         44339 non-null  int64  \n",
      " 1   lesson_id                  43725 non-null  float64\n",
      " 2   user_id                    44339 non-null  int64  \n",
      " 3   started_at                 44339 non-null  object \n",
      " 4   created_at                 44339 non-null  object \n",
      " 5   updated_at                 44339 non-null  object \n",
      " 6   duration                   44339 non-null  float64\n",
      " 7   ended_at                   44063 non-null  object \n",
      " 8   potentially_taught         44339 non-null  bool   \n",
      " 9   video_duration             44339 non-null  float64\n",
      " 10  user_session_id            44339 non-null  int64  \n",
      " 11  previewed                  44339 non-null  bool   \n",
      " 12  fullscreen_video_duration  2179 non-null   float64\n",
      " 13  fullscreened               2179 non-null   object \n",
      "dtypes: bool(2), float64(4), int64(3), object(5)\n",
      "memory usage: 4.1+ MB\n"
     ]
    }
   ],
   "source": [
    "viewings_df = pd.read_csv('./Data/viewings.csv')\n",
    "viewings_df.info()"
   ]
  },
  {
   "cell_type": "markdown",
   "metadata": {},
   "source": [
    "**previewed:** indicates whether a user has started two more videos\n",
    "\n",
    "**potentially_taught:** true if more than 75% of the lesson was watched during school hours for that teacher. Internally, we count a potentially taught lesson as one hour of teaching.\n",
    "\n",
    "**full_screened:** indicates whether a user used full screen mode when viewing the lesson"
   ]
  },
  {
   "cell_type": "markdown",
   "metadata": {},
   "source": [
    "# Merging Data"
   ]
  },
  {
   "cell_type": "markdown",
   "metadata": {},
   "source": [
    "The `users` dataset has 10181 records indexed by `User IDs`.\n",
    "\n",
    "And the `viewings` dataset has 44339 records indexed by `ids`.\n",
    "\n",
    "To preserve as much data as possible, we'll merge the `users` and `viewings` datasets on a shared feature\n",
    "`viewings_df.user_id` == `users_df.UserID` "
   ]
  },
  {
   "cell_type": "code",
   "execution_count": 4,
   "metadata": {},
   "outputs": [
    {
     "data": {
      "text/html": [
       "<div>\n",
       "<style scoped>\n",
       "    .dataframe tbody tr th:only-of-type {\n",
       "        vertical-align: middle;\n",
       "    }\n",
       "\n",
       "    .dataframe tbody tr th {\n",
       "        vertical-align: top;\n",
       "    }\n",
       "\n",
       "    .dataframe thead th {\n",
       "        text-align: right;\n",
       "    }\n",
       "</style>\n",
       "<table border=\"1\" class=\"dataframe\">\n",
       "  <thead>\n",
       "    <tr style=\"text-align: right;\">\n",
       "      <th></th>\n",
       "      <th>lesson_id</th>\n",
       "      <th>user_id</th>\n",
       "      <th>started_at</th>\n",
       "      <th>created_at</th>\n",
       "      <th>updated_at</th>\n",
       "      <th>duration</th>\n",
       "      <th>ended_at</th>\n",
       "      <th>potentially_taught</th>\n",
       "      <th>video_duration</th>\n",
       "      <th>user_session_id</th>\n",
       "      <th>previewed</th>\n",
       "      <th>fullscreen_video_duration</th>\n",
       "      <th>fullscreened</th>\n",
       "      <th>Organization ID</th>\n",
       "      <th>Organization Type</th>\n",
       "      <th>Country</th>\n",
       "      <th>State</th>\n",
       "      <th>NGSS Status</th>\n",
       "      <th>Grade level</th>\n",
       "      <th>Sign up date</th>\n",
       "      <th>Activation date</th>\n",
       "      <th>Full Trial expiry date</th>\n",
       "      <th>Quote created?</th>\n",
       "    </tr>\n",
       "    <tr>\n",
       "      <th>id</th>\n",
       "      <th></th>\n",
       "      <th></th>\n",
       "      <th></th>\n",
       "      <th></th>\n",
       "      <th></th>\n",
       "      <th></th>\n",
       "      <th></th>\n",
       "      <th></th>\n",
       "      <th></th>\n",
       "      <th></th>\n",
       "      <th></th>\n",
       "      <th></th>\n",
       "      <th></th>\n",
       "      <th></th>\n",
       "      <th></th>\n",
       "      <th></th>\n",
       "      <th></th>\n",
       "      <th></th>\n",
       "      <th></th>\n",
       "      <th></th>\n",
       "      <th></th>\n",
       "      <th></th>\n",
       "      <th></th>\n",
       "    </tr>\n",
       "  </thead>\n",
       "  <tbody>\n",
       "    <tr>\n",
       "      <th>3535094</th>\n",
       "      <td>112.0</td>\n",
       "      <td>7670</td>\n",
       "      <td>2016-11-11 05:27:45 -0800</td>\n",
       "      <td>2016-11-11 05:27:45 -0800</td>\n",
       "      <td>2016-11-11 05:33:31 -0800</td>\n",
       "      <td>0.000</td>\n",
       "      <td>2016-11-11 05:27:45 -0800</td>\n",
       "      <td>False</td>\n",
       "      <td>0.00</td>\n",
       "      <td>7306328</td>\n",
       "      <td>False</td>\n",
       "      <td>NaN</td>\n",
       "      <td>NaN</td>\n",
       "      <td>12476</td>\n",
       "      <td>School</td>\n",
       "      <td>United States</td>\n",
       "      <td>Florida</td>\n",
       "      <td>NaN</td>\n",
       "      <td>K, 1, 2</td>\n",
       "      <td>2014-09-15</td>\n",
       "      <td>2014-09-15</td>\n",
       "      <td>2016-06-30</td>\n",
       "      <td>False</td>\n",
       "    </tr>\n",
       "    <tr>\n",
       "      <th>3535095</th>\n",
       "      <td>112.0</td>\n",
       "      <td>7670</td>\n",
       "      <td>2016-11-11 05:27:45 -0800</td>\n",
       "      <td>2016-11-11 05:27:45 -0800</td>\n",
       "      <td>2016-11-11 05:53:01 -0800</td>\n",
       "      <td>1186.358</td>\n",
       "      <td>2016-11-11 05:47:32 -0800</td>\n",
       "      <td>False</td>\n",
       "      <td>949.37</td>\n",
       "      <td>7306328</td>\n",
       "      <td>True</td>\n",
       "      <td>NaN</td>\n",
       "      <td>NaN</td>\n",
       "      <td>12476</td>\n",
       "      <td>School</td>\n",
       "      <td>United States</td>\n",
       "      <td>Florida</td>\n",
       "      <td>NaN</td>\n",
       "      <td>K, 1, 2</td>\n",
       "      <td>2014-09-15</td>\n",
       "      <td>2014-09-15</td>\n",
       "      <td>2016-06-30</td>\n",
       "      <td>False</td>\n",
       "    </tr>\n",
       "    <tr>\n",
       "      <th>3536432</th>\n",
       "      <td>114.0</td>\n",
       "      <td>7670</td>\n",
       "      <td>2016-11-11 05:47:57 -0800</td>\n",
       "      <td>2016-11-11 05:47:57 -0800</td>\n",
       "      <td>2016-12-23 19:58:34 -0800</td>\n",
       "      <td>178.508</td>\n",
       "      <td>2016-11-11 05:50:56 -0800</td>\n",
       "      <td>False</td>\n",
       "      <td>0.00</td>\n",
       "      <td>7306328</td>\n",
       "      <td>True</td>\n",
       "      <td>NaN</td>\n",
       "      <td>NaN</td>\n",
       "      <td>12476</td>\n",
       "      <td>School</td>\n",
       "      <td>United States</td>\n",
       "      <td>Florida</td>\n",
       "      <td>NaN</td>\n",
       "      <td>K, 1, 2</td>\n",
       "      <td>2014-09-15</td>\n",
       "      <td>2014-09-15</td>\n",
       "      <td>2016-06-30</td>\n",
       "      <td>False</td>\n",
       "    </tr>\n",
       "    <tr>\n",
       "      <th>3916927</th>\n",
       "      <td>75.0</td>\n",
       "      <td>9148</td>\n",
       "      <td>2016-12-11 05:48:30 -0800</td>\n",
       "      <td>2016-12-11 05:48:37 -0800</td>\n",
       "      <td>2016-12-23 21:35:07 -0800</td>\n",
       "      <td>110.000</td>\n",
       "      <td>2016-12-11 05:50:20 -0800</td>\n",
       "      <td>False</td>\n",
       "      <td>63.00</td>\n",
       "      <td>7970073</td>\n",
       "      <td>True</td>\n",
       "      <td>NaN</td>\n",
       "      <td>NaN</td>\n",
       "      <td>345365</td>\n",
       "      <td>School</td>\n",
       "      <td>United States</td>\n",
       "      <td>Maryland</td>\n",
       "      <td>NaN</td>\n",
       "      <td>5</td>\n",
       "      <td>2014-10-21</td>\n",
       "      <td>2014-10-21</td>\n",
       "      <td>2016-06-30</td>\n",
       "      <td>False</td>\n",
       "    </tr>\n",
       "    <tr>\n",
       "      <th>5081285</th>\n",
       "      <td>98.0</td>\n",
       "      <td>9148</td>\n",
       "      <td>2017-02-28 10:46:47 -0800</td>\n",
       "      <td>2017-02-28 10:46:47 -0800</td>\n",
       "      <td>2017-02-28 10:46:47 -0800</td>\n",
       "      <td>0.000</td>\n",
       "      <td>NaN</td>\n",
       "      <td>False</td>\n",
       "      <td>0.00</td>\n",
       "      <td>9729422</td>\n",
       "      <td>False</td>\n",
       "      <td>NaN</td>\n",
       "      <td>NaN</td>\n",
       "      <td>345365</td>\n",
       "      <td>School</td>\n",
       "      <td>United States</td>\n",
       "      <td>Maryland</td>\n",
       "      <td>NaN</td>\n",
       "      <td>5</td>\n",
       "      <td>2014-10-21</td>\n",
       "      <td>2014-10-21</td>\n",
       "      <td>2016-06-30</td>\n",
       "      <td>False</td>\n",
       "    </tr>\n",
       "  </tbody>\n",
       "</table>\n",
       "</div>"
      ],
      "text/plain": [
       "         lesson_id  user_id                 started_at  \\\n",
       "id                                                       \n",
       "3535094      112.0     7670  2016-11-11 05:27:45 -0800   \n",
       "3535095      112.0     7670  2016-11-11 05:27:45 -0800   \n",
       "3536432      114.0     7670  2016-11-11 05:47:57 -0800   \n",
       "3916927       75.0     9148  2016-12-11 05:48:30 -0800   \n",
       "5081285       98.0     9148  2017-02-28 10:46:47 -0800   \n",
       "\n",
       "                        created_at                 updated_at  duration  \\\n",
       "id                                                                        \n",
       "3535094  2016-11-11 05:27:45 -0800  2016-11-11 05:33:31 -0800     0.000   \n",
       "3535095  2016-11-11 05:27:45 -0800  2016-11-11 05:53:01 -0800  1186.358   \n",
       "3536432  2016-11-11 05:47:57 -0800  2016-12-23 19:58:34 -0800   178.508   \n",
       "3916927  2016-12-11 05:48:37 -0800  2016-12-23 21:35:07 -0800   110.000   \n",
       "5081285  2017-02-28 10:46:47 -0800  2017-02-28 10:46:47 -0800     0.000   \n",
       "\n",
       "                          ended_at  potentially_taught  video_duration  \\\n",
       "id                                                                       \n",
       "3535094  2016-11-11 05:27:45 -0800               False            0.00   \n",
       "3535095  2016-11-11 05:47:32 -0800               False          949.37   \n",
       "3536432  2016-11-11 05:50:56 -0800               False            0.00   \n",
       "3916927  2016-12-11 05:50:20 -0800               False           63.00   \n",
       "5081285                        NaN               False            0.00   \n",
       "\n",
       "         user_session_id  previewed  fullscreen_video_duration fullscreened  \\\n",
       "id                                                                            \n",
       "3535094          7306328      False                        NaN          NaN   \n",
       "3535095          7306328       True                        NaN          NaN   \n",
       "3536432          7306328       True                        NaN          NaN   \n",
       "3916927          7970073       True                        NaN          NaN   \n",
       "5081285          9729422      False                        NaN          NaN   \n",
       "\n",
       "         Organization ID Organization Type        Country     State  \\\n",
       "id                                                                    \n",
       "3535094            12476            School  United States   Florida   \n",
       "3535095            12476            School  United States   Florida   \n",
       "3536432            12476            School  United States   Florida   \n",
       "3916927           345365            School  United States  Maryland   \n",
       "5081285           345365            School  United States  Maryland   \n",
       "\n",
       "        NGSS Status Grade level Sign up date Activation date  \\\n",
       "id                                                             \n",
       "3535094         NaN     K, 1, 2   2014-09-15      2014-09-15   \n",
       "3535095         NaN     K, 1, 2   2014-09-15      2014-09-15   \n",
       "3536432         NaN     K, 1, 2   2014-09-15      2014-09-15   \n",
       "3916927         NaN           5   2014-10-21      2014-10-21   \n",
       "5081285         NaN           5   2014-10-21      2014-10-21   \n",
       "\n",
       "        Full Trial expiry date  Quote created?  \n",
       "id                                              \n",
       "3535094             2016-06-30           False  \n",
       "3535095             2016-06-30           False  \n",
       "3536432             2016-06-30           False  \n",
       "3916927             2016-06-30           False  \n",
       "5081285             2016-06-30           False  "
      ]
     },
     "execution_count": 4,
     "metadata": {},
     "output_type": "execute_result"
    }
   ],
   "source": [
    "# merge viewings_df and users_df on v.user_id == u.User ID\n",
    "user_viewings_df = viewings_df.merge(users_df, left_on='user_id', right_on='User ID').set_index('id').drop(columns=['User ID'])\n",
    "user_viewings_df.head()"
   ]
  },
  {
   "cell_type": "markdown",
   "metadata": {},
   "source": [
    "# Data Cleaning"
   ]
  },
  {
   "cell_type": "markdown",
   "metadata": {},
   "source": [
    "Using a cool tool from the [missingno](https://github.com/ResidentMario/missingno) library, we can visualize the first thing we should check for, missing values. "
   ]
  },
  {
   "cell_type": "code",
   "execution_count": 5,
   "metadata": {},
   "outputs": [
    {
     "data": {
      "text/plain": [
       "<AxesSubplot:>"
      ]
     },
     "execution_count": 5,
     "metadata": {},
     "output_type": "execute_result"
    },
    {
     "data": {
      "image/png": "[encoded data removed]",
      "text/plain": [
       "<Figure size 1800x720 with 2 Axes>"
      ]
     },
     "metadata": {
      "needs_background": "light"
     },
     "output_type": "display_data"
    }
   ],
   "source": [
    "# plot matix to see missing values\n",
    "msno.matrix(user_viewings_df)"
   ]
  },
  {
   "cell_type": "markdown",
   "metadata": {},
   "source": [
    "## ROWS\n",
    "#### Noteable chunk of rows missing from these columns. Lets take a closer look and try to imput values if we can. \n",
    "- **`NGSS Status`**"
   ]
  },
  {
   "cell_type": "code",
   "execution_count": 6,
   "metadata": {},
   "outputs": [
    {
     "data": {
      "text/plain": [
       "yes              13583\n",
       "transitioning    12532\n",
       "not sure          5553\n",
       "no                5122\n",
       "Name: NGSS Status, dtype: int64"
      ]
     },
     "execution_count": 6,
     "metadata": {},
     "output_type": "execute_result"
    }
   ],
   "source": [
    "# Review value_counts of NGSS Status\n",
    "user_viewings_df['NGSS Status'].value_counts()"
   ]
  },
  {
   "cell_type": "markdown",
   "metadata": {},
   "source": [
    "#### Reflection of NGSS Status column\n",
    "- Nice! Looks like theres a `not sure` category that we can use to imput all the missing values. "
   ]
  },
  {
   "cell_type": "code",
   "execution_count": 7,
   "metadata": {},
   "outputs": [
    {
     "data": {
      "text/plain": [
       "<AxesSubplot:>"
      ]
     },
     "execution_count": 7,
     "metadata": {},
     "output_type": "execute_result"
    },
    {
     "data": {
      "image/png": "[encoded data removed]",
      "text/plain": [
       "<Figure size 432x288 with 1 Axes>"
      ]
     },
     "metadata": {
      "needs_background": "light"
     },
     "output_type": "display_data"
    }
   ],
   "source": [
    "# fill NGSS Status null values with 'not sure'\n",
    "user_viewings_df['NGSS Status'].fillna(value='not sure', inplace=True)\n",
    "# plot the value_counts of NGSS Status\n",
    "user_viewings_df['NGSS Status'].value_counts().plot(kind='bar')"
   ]
  },
  {
   "cell_type": "markdown",
   "metadata": {},
   "source": [
    "- **`Grade level`**"
   ]
  },
  {
   "cell_type": "code",
   "execution_count": 8,
   "metadata": {
    "scrolled": true
   },
   "outputs": [
    {
     "data": {
      "text/plain": [
       "3                                        10054\n",
       "5                                         7229\n",
       "4                                         7095\n",
       "2                                         5082\n",
       "1                                         2705\n",
       "K                                         1426\n",
       "K, 1, 2, 3, 4, 5                           984\n",
       "4, 5                                       735\n",
       "Upper                                      669\n",
       "K, 5                                       618\n",
       "5, Upper                                   385\n",
       "2, 3                                       333\n",
       "K, 1                                       309\n",
       "1, 2                                       296\n",
       "3, 4                                       282\n",
       "1, 2, 3, 4, 5                              244\n",
       "K, 1, 2, 3, 5                              226\n",
       "1, 2, 3, 4, 5, Upper                       215\n",
       "K, 1, 2, 3, 4                              196\n",
       "Pre, K, 1, 2                               191\n",
       "K, 1, 3, 4, Upper                          172\n",
       "Upper, Upper                               134\n",
       "K, 1, 2, 3, 4, 5, Upper, Upper, Upper      130\n",
       "1, 2, 3, 4                                 125\n",
       "K, 1, 2, 3                                 117\n",
       "2, 3, 4, 5, Upper                          108\n",
       "2, 3, 4, 5                                  89\n",
       "3, 4, 5                                     80\n",
       "K, 1, 2                                     80\n",
       "2, 3, 4                                     58\n",
       "4, 5, Upper                                 44\n",
       "3, 4, 5, Upper                              44\n",
       "K, 1, 2, 3, 4, 5, Upper                     44\n",
       "Pre, K, 1, 2, 3, 4, 5                       35\n",
       "Pre                                         34\n",
       "K, Upper                                    30\n",
       "5, 6                                        26\n",
       "3, Upper                                    25\n",
       "Pre, K, 1, 2, 3                             18\n",
       "2, 5                                        16\n",
       "3, 5                                        15\n",
       "Pre, K                                      14\n",
       "Pre, K, 1, 2, 3, 4, 5, Upper                13\n",
       "4, Upper                                    13\n",
       "Pre, 4, 5                                    9\n",
       "2, Upper                                     9\n",
       "Prep                                         9\n",
       "1, 2, 3                                      5\n",
       "K, 4                                         3\n",
       "6, Upper                                     2\n",
       "1, Upper                                     1\n",
       "K, 1, 2, Upper                               1\n",
       "K, 1, 2, 4                                   1\n",
       "1, 2, 3, 4, 5, 6, Upper                      1\n",
       "Name: Grade level, dtype: int64"
      ]
     },
     "execution_count": 8,
     "metadata": {},
     "output_type": "execute_result"
    }
   ],
   "source": [
    "# Review value_counts of Grade Level\n",
    "user_viewings_df['Grade level'].value_counts()"
   ]
  },
  {
   "cell_type": "markdown",
   "metadata": {},
   "source": [
    "### Reflection of Grade Level column\n",
    "- Unfortuantely it doesn't look like we'll get a clear picture of the value counts because **these values need to be expanded** to separate columns"
   ]
  },
  {
   "cell_type": "code",
   "execution_count": 9,
   "metadata": {},
   "outputs": [],
   "source": [
    "# For every value in `Grade level`, strip the spaces off the edges, and split the value on ',' and \n",
    "# expand the value into a new column. then stack. \n",
    "split_grades = user_viewings_df['Grade level'].str.split(', ', expand=True).stack()\n",
    "# Take the multi-indexed (stacked) grades and pass them into a DataFrame grouped by id\n",
    "encoded_grades = pd.get_dummies(split_grades).groupby(level=0).sum()"
   ]
  },
  {
   "cell_type": "markdown",
   "metadata": {},
   "source": [
    "##### Which grade is more probable?"
   ]
  },
  {
   "cell_type": "code",
   "execution_count": 10,
   "metadata": {},
   "outputs": [
    {
     "data": {
      "image/png": "[encoded data removed]",
      "text/plain": [
       "<Figure size 432x288 with 1 Axes>"
      ]
     },
     "metadata": {
      "needs_background": "light"
     },
     "output_type": "display_data"
    }
   ],
   "source": [
    "# calculate the probability of each grade level\n",
    "pd_grade_level = (encoded_grades.sum()/encoded_grades.sum().sum())\n",
    "# plot the probability of each graded level\n",
    "pd_grade_level.plot(kind='bar')\n",
    "# axis labels\n",
    "plt.title(\"Which grade is more probable?\")\n",
    "plt.xlabel('Grade Categories')\n",
    "plt.xticks(rotation=45)\n",
    "plt.ylabel('Frequency')\n",
    "# show the plot\n",
    "plt.show()"
   ]
  },
  {
   "cell_type": "markdown",
   "metadata": {},
   "source": [
    "- This bargraph represents the the relative frequencies of each possible `Grade Level`. \n",
    "- We can use these relative frequencies to impute null values in `Grade Level` fairly.\n",
    "- But wait! We saw that some rows have multiple grade levels, so **should we pick more than one?**"
   ]
  },
  {
   "cell_type": "code",
   "execution_count": 11,
   "metadata": {},
   "outputs": [
    {
     "data": {
      "image/png": "[encoded data removed]",
      "text/plain": [
       "<Figure size 1440x360 with 1 Axes>"
      ]
     },
     "metadata": {
      "needs_background": "light"
     },
     "output_type": "display_data"
    }
   ],
   "source": [
    "# sum each row into a total grades taught column\n",
    "encoded_grades['total_grades_taught'] = encoded_grades.sum(axis=1)\n",
    "\n",
    "# and plot the value_counts\n",
    "encoded_grades['total_grades_taught'].value_counts(normalize=True).sort_index().plot(kind='bar', figsize=(20,5))\n",
    "# axis labels\n",
    "plt.title(\"How many different Grades Levels do users teach?\")\n",
    "plt.xlabel('Sum of Grade Levels taught')\n",
    "plt.xticks(rotation=45)\n",
    "plt.ylabel('Frequency')\n",
    "# show the plot\n",
    "plt.show()"
   ]
  },
  {
   "cell_type": "markdown",
   "metadata": {},
   "source": [
    "- This graph shows **more than 80% of observations have only one `Grade level`** associated.\n",
    "- This means we can use our relative frequencies from above to randomly fill na values with single `Grade levels`"
   ]
  },
  {
   "cell_type": "code",
   "execution_count": 12,
   "metadata": {},
   "outputs": [],
   "source": [
    "# So lets get a bool matrix indicating whether the Grade level is null or not\n",
    "missing = user_viewings_df['Grade level'].isnull()\n",
    "\n",
    "# Then using that matrix, lets fill nulls with available options according to the probability associated in pd_grade_level\n",
    "user_viewings_df.loc[missing,'Grade level'] = np.random.choice(pd_grade_level.index, size=len(user_viewings_df[missing]),\n",
    "                                                               p=pd_grade_level.values)"
   ]
  },
  {
   "cell_type": "markdown",
   "metadata": {},
   "source": [
    "## ROWS (continued)\n",
    "#### Negligble chunk of rows missing from these columns. Because there are nearly 45K rows of data we can afford to lose drop null values from:\n",
    "- `lesson_id`\n",
    "- `ended_at` \n",
    "- `Country`\n",
    "- `State`"
   ]
  },
  {
   "cell_type": "markdown",
   "metadata": {},
   "source": [
    "## COLUMNS\n",
    "#### These columns are effectively empty. We can reconsider how we'd want to handle this after we've run a dataset without these features, but lets take a look at the values first.\n",
    "- `fullscreen_video_duration`\n",
    "- `fullscreened` "
   ]
  },
  {
   "cell_type": "code",
   "execution_count": 13,
   "metadata": {},
   "outputs": [
    {
     "name": "stdout",
     "output_type": "stream",
     "text": [
      "\n",
      "The fullscreened column has been assigned a datatype of : object\n",
      "This column is missing 42160 values. Thats 95%\n",
      "unique values: 2\n",
      "False    0.993116\n",
      "True     0.006884\n",
      "Name: fullscreened, dtype: float64\n",
      "\n",
      "The fullscreen_video_duration column has been assigned a datatype of : float64\n",
      "This column is missing 42160 values. Thats 95%\n",
      "unique values: 412\n",
      "0.0      0.766866\n",
      "50.0     0.001836\n",
      "326.0    0.001836\n",
      "773.0    0.001377\n",
      "282.0    0.001377\n",
      "Name: fullscreen_video_duration, dtype: float64\n"
     ]
    }
   ],
   "source": [
    "# define empty_columns list\n",
    "empty_columns = ['fullscreened', 'fullscreen_video_duration']\n",
    "# Review empty columns datatype, nunique values, and value_counts\n",
    "for column in empty_columns:\n",
    "    missing_values = user_viewings_df[column].isna().sum()\n",
    "    print(\"\")\n",
    "    print(f\"The {column} column has been assigned a datatype of : {user_viewings_df.dtypes[column]}\")\n",
    "    print(f\"This column is missing {missing_values} values. Thats {round((missing_values/user_viewings_df.shape[0])*100)}%\")\n",
    "    print(f\"unique values: {user_viewings_df[column].nunique()}\")\n",
    "    print(user_viewings_df[column].value_counts(normalize=True).head())"
   ]
  },
  {
   "cell_type": "markdown",
   "metadata": {},
   "source": [
    "### Reflection on Columns with missing values\n",
    "- 95% of both columns are missing data.\n",
    "- Of the existing 'fullscreened' values, 99% == False.\n",
    "- Of the existing 'fullscreen_video_duration' values, 76% == 0.\n",
    "- The value counts of these (already sparse) columns indicate **they're better off dropped.**"
   ]
  },
  {
   "cell_type": "code",
   "execution_count": 14,
   "metadata": {},
   "outputs": [
    {
     "data": {
      "text/plain": [
       "<AxesSubplot:>"
      ]
     },
     "execution_count": 14,
     "metadata": {},
     "output_type": "execute_result"
    },
    {
     "data": {
      "image/png": "[encoded data removed]",
      "text/plain": [
       "<Figure size 1800x720 with 2 Axes>"
      ]
     },
     "metadata": {
      "needs_background": "light"
     },
     "output_type": "display_data"
    }
   ],
   "source": [
    "# drop the columns and the missing rows\n",
    "cleaned_df = user_viewings_df.drop(columns=empty_columns).dropna()\n",
    "# plot matix to see missing values\n",
    "msno.matrix(cleaned_df)"
   ]
  },
  {
   "cell_type": "markdown",
   "metadata": {},
   "source": [
    "ahh. A dataset free of missing values. Now that we've taken care of the surface...time for a \n",
    "\n",
    "\n",
    "# Deeper Clean\n",
    "\n",
    "Lets start by taking a closer look at our column's assigned datatypes vs. what they actually are and verify they match up (and fix it when they don't)."
   ]
  },
  {
   "cell_type": "code",
   "execution_count": 15,
   "metadata": {},
   "outputs": [
    {
     "data": {
      "text/plain": [
       "lesson_id                 float64\n",
       "user_id                     int64\n",
       "started_at                 object\n",
       "created_at                 object\n",
       "updated_at                 object\n",
       "duration                  float64\n",
       "ended_at                   object\n",
       "potentially_taught           bool\n",
       "video_duration            float64\n",
       "user_session_id             int64\n",
       "previewed                    bool\n",
       "Organization ID             int64\n",
       "Organization Type          object\n",
       "Country                    object\n",
       "State                      object\n",
       "NGSS Status                object\n",
       "Grade level                object\n",
       "Sign up date               object\n",
       "Activation date            object\n",
       "Full Trial expiry date     object\n",
       "Quote created?               bool\n",
       "dtype: object"
      ]
     },
     "execution_count": 15,
     "metadata": {},
     "output_type": "execute_result"
    }
   ],
   "source": [
    "# This is what they're labelled as:\n",
    "cleaned_df.dtypes"
   ]
  },
  {
   "cell_type": "code",
   "execution_count": 16,
   "metadata": {},
   "outputs": [
    {
     "data": {
      "text/html": [
       "<div>\n",
       "<style scoped>\n",
       "    .dataframe tbody tr th:only-of-type {\n",
       "        vertical-align: middle;\n",
       "    }\n",
       "\n",
       "    .dataframe tbody tr th {\n",
       "        vertical-align: top;\n",
       "    }\n",
       "\n",
       "    .dataframe thead th {\n",
       "        text-align: right;\n",
       "    }\n",
       "</style>\n",
       "<table border=\"1\" class=\"dataframe\">\n",
       "  <thead>\n",
       "    <tr style=\"text-align: right;\">\n",
       "      <th></th>\n",
       "      <th>lesson_id</th>\n",
       "      <th>user_id</th>\n",
       "      <th>started_at</th>\n",
       "      <th>created_at</th>\n",
       "      <th>updated_at</th>\n",
       "      <th>duration</th>\n",
       "      <th>ended_at</th>\n",
       "      <th>potentially_taught</th>\n",
       "      <th>video_duration</th>\n",
       "      <th>user_session_id</th>\n",
       "      <th>previewed</th>\n",
       "      <th>Organization ID</th>\n",
       "      <th>Organization Type</th>\n",
       "      <th>Country</th>\n",
       "      <th>State</th>\n",
       "      <th>NGSS Status</th>\n",
       "      <th>Grade level</th>\n",
       "      <th>Sign up date</th>\n",
       "      <th>Activation date</th>\n",
       "      <th>Full Trial expiry date</th>\n",
       "      <th>Quote created?</th>\n",
       "    </tr>\n",
       "    <tr>\n",
       "      <th>id</th>\n",
       "      <th></th>\n",
       "      <th></th>\n",
       "      <th></th>\n",
       "      <th></th>\n",
       "      <th></th>\n",
       "      <th></th>\n",
       "      <th></th>\n",
       "      <th></th>\n",
       "      <th></th>\n",
       "      <th></th>\n",
       "      <th></th>\n",
       "      <th></th>\n",
       "      <th></th>\n",
       "      <th></th>\n",
       "      <th></th>\n",
       "      <th></th>\n",
       "      <th></th>\n",
       "      <th></th>\n",
       "      <th></th>\n",
       "      <th></th>\n",
       "      <th></th>\n",
       "    </tr>\n",
       "  </thead>\n",
       "  <tbody>\n",
       "    <tr>\n",
       "      <th>5366973</th>\n",
       "      <td>94.0</td>\n",
       "      <td>828358</td>\n",
       "      <td>2017-03-13 11:05:03 -0700</td>\n",
       "      <td>2017-03-13 11:05:03 -0700</td>\n",
       "      <td>2017-03-13 12:23:21 -0700</td>\n",
       "      <td>4400.827</td>\n",
       "      <td>2017-03-13 12:18:24 -0700</td>\n",
       "      <td>True</td>\n",
       "      <td>1129.0</td>\n",
       "      <td>10071348</td>\n",
       "      <td>True</td>\n",
       "      <td>2867</td>\n",
       "      <td>School</td>\n",
       "      <td>United States</td>\n",
       "      <td>Illinois</td>\n",
       "      <td>not sure</td>\n",
       "      <td>5</td>\n",
       "      <td>2015-08-06</td>\n",
       "      <td>2016-01-08</td>\n",
       "      <td>2016-06-30</td>\n",
       "      <td>False</td>\n",
       "    </tr>\n",
       "    <tr>\n",
       "      <th>3438187</th>\n",
       "      <td>30.0</td>\n",
       "      <td>885156</td>\n",
       "      <td>2016-11-03 12:02:05 -0700</td>\n",
       "      <td>2016-11-03 12:02:05 -0700</td>\n",
       "      <td>2016-11-03 12:04:44 -0700</td>\n",
       "      <td>0.001</td>\n",
       "      <td>2016-11-03 12:02:05 -0700</td>\n",
       "      <td>False</td>\n",
       "      <td>0.0</td>\n",
       "      <td>7136136</td>\n",
       "      <td>False</td>\n",
       "      <td>1291</td>\n",
       "      <td>School</td>\n",
       "      <td>United States</td>\n",
       "      <td>Tennessee</td>\n",
       "      <td>not sure</td>\n",
       "      <td>4</td>\n",
       "      <td>2015-08-15</td>\n",
       "      <td>2016-02-10</td>\n",
       "      <td>2016-06-30</td>\n",
       "      <td>False</td>\n",
       "    </tr>\n",
       "    <tr>\n",
       "      <th>3709027</th>\n",
       "      <td>108.0</td>\n",
       "      <td>5009632</td>\n",
       "      <td>2016-11-27 08:47:47 -0800</td>\n",
       "      <td>2016-11-27 08:47:47 -0800</td>\n",
       "      <td>2016-11-27 08:53:32 -0800</td>\n",
       "      <td>0.000</td>\n",
       "      <td>2016-11-27 08:47:47 -0800</td>\n",
       "      <td>False</td>\n",
       "      <td>0.0</td>\n",
       "      <td>7639713</td>\n",
       "      <td>False</td>\n",
       "      <td>5842</td>\n",
       "      <td>School</td>\n",
       "      <td>United States</td>\n",
       "      <td>Massachusetts</td>\n",
       "      <td>not sure</td>\n",
       "      <td>5</td>\n",
       "      <td>2016-09-18</td>\n",
       "      <td>2016-11-27</td>\n",
       "      <td>2017-06-30</td>\n",
       "      <td>False</td>\n",
       "    </tr>\n",
       "  </tbody>\n",
       "</table>\n",
       "</div>"
      ],
      "text/plain": [
       "         lesson_id  user_id                 started_at  \\\n",
       "id                                                       \n",
       "5366973       94.0   828358  2017-03-13 11:05:03 -0700   \n",
       "3438187       30.0   885156  2016-11-03 12:02:05 -0700   \n",
       "3709027      108.0  5009632  2016-11-27 08:47:47 -0800   \n",
       "\n",
       "                        created_at                 updated_at  duration  \\\n",
       "id                                                                        \n",
       "5366973  2017-03-13 11:05:03 -0700  2017-03-13 12:23:21 -0700  4400.827   \n",
       "3438187  2016-11-03 12:02:05 -0700  2016-11-03 12:04:44 -0700     0.001   \n",
       "3709027  2016-11-27 08:47:47 -0800  2016-11-27 08:53:32 -0800     0.000   \n",
       "\n",
       "                          ended_at  potentially_taught  video_duration  \\\n",
       "id                                                                       \n",
       "5366973  2017-03-13 12:18:24 -0700                True          1129.0   \n",
       "3438187  2016-11-03 12:02:05 -0700               False             0.0   \n",
       "3709027  2016-11-27 08:47:47 -0800               False             0.0   \n",
       "\n",
       "         user_session_id  previewed  Organization ID Organization Type  \\\n",
       "id                                                                       \n",
       "5366973         10071348       True             2867            School   \n",
       "3438187          7136136      False             1291            School   \n",
       "3709027          7639713      False             5842            School   \n",
       "\n",
       "               Country          State NGSS Status Grade level Sign up date  \\\n",
       "id                                                                           \n",
       "5366973  United States       Illinois    not sure           5   2015-08-06   \n",
       "3438187  United States      Tennessee    not sure           4   2015-08-15   \n",
       "3709027  United States  Massachusetts    not sure           5   2016-09-18   \n",
       "\n",
       "        Activation date Full Trial expiry date  Quote created?  \n",
       "id                                                              \n",
       "5366973      2016-01-08             2016-06-30           False  \n",
       "3438187      2016-02-10             2016-06-30           False  \n",
       "3709027      2016-11-27             2017-06-30           False  "
      ]
     },
     "execution_count": 16,
     "metadata": {},
     "output_type": "execute_result"
    }
   ],
   "source": [
    "# And this is what our data looks like: \n",
    "cleaned_df.sample(3)"
   ]
  },
  {
   "cell_type": "markdown",
   "metadata": {},
   "source": [
    "### According to my rationale the columns breakdown as follows:"
   ]
  },
  {
   "cell_type": "code",
   "execution_count": 17,
   "metadata": {},
   "outputs": [],
   "source": [
    "#### IDs:\n",
    "id_columns = ['Organization ID', 'user_id', 'user_session_id', 'lesson_id']\n",
    "\n",
    "#### Numerical:\n",
    "numerical_columns = ['duration', 'video_duration']\n",
    "\n",
    "#### Categorical:\n",
    "categorical_columns = ['Country', 'State', 'NGSS Status', 'Grade level' , 'potentially_taught', 'previewed', 'Organization Type']\n",
    "\n",
    "#### Datetime:\n",
    "user_datetime = ['Sign up date', 'Activation date', 'Full Trial expiry date']\n",
    "viewing_datetime = ['started_at', 'created_at', 'updated_at', 'ended_at']\n",
    "\n",
    "#### Target:\n",
    "target_variable = 'Quote created?'"
   ]
  },
  {
   "cell_type": "markdown",
   "metadata": {},
   "source": [
    "Lets start by taking a look at our ...\n",
    "## Target Variable"
   ]
  },
  {
   "cell_type": "code",
   "execution_count": 18,
   "metadata": {},
   "outputs": [
    {
     "name": "stdout",
     "output_type": "stream",
     "text": [
      "Target variable has been assigned a datatype of : bool\n"
     ]
    },
    {
     "data": {
      "text/plain": [
       "False    0.852479\n",
       "True     0.147521\n",
       "Name: Quote created?, dtype: float64"
      ]
     },
     "execution_count": 18,
     "metadata": {},
     "output_type": "execute_result"
    }
   ],
   "source": [
    "# Review Target Variables datatype,and value_counts normalized.\n",
    "print(\"Target variable has been assigned a datatype of :\", cleaned_df.dtypes[target_variable])\n",
    "cleaned_df[target_variable].value_counts(normalize=True)"
   ]
  },
  {
   "cell_type": "markdown",
   "metadata": {},
   "source": [
    "### Reflection on Target Variable\n",
    "- Our target variable, `Quote created?`, is rightfully cast as a boolean value of True and False. For our plotting purposes however, this variable is better converted to 1 & 0.\n",
    "- **Note**: dataset is rather skewed, with 85% of the data reflecting a `False` target variable. "
   ]
  },
  {
   "cell_type": "code",
   "execution_count": 19,
   "metadata": {},
   "outputs": [],
   "source": [
    "# cast bool column as type int (ones and zeros)\n",
    "cleaned_df[target_variable] = cleaned_df[target_variable].astype(int)"
   ]
  },
  {
   "cell_type": "markdown",
   "metadata": {},
   "source": [
    "So lets take a look at each datatype subgroup and verify they're labelled accordingly. Starting with \n",
    "\n",
    "## Numerical Variables"
   ]
  },
  {
   "cell_type": "code",
   "execution_count": 20,
   "metadata": {},
   "outputs": [
    {
     "data": {
      "text/html": [
       "<div>\n",
       "<style scoped>\n",
       "    .dataframe tbody tr th:only-of-type {\n",
       "        vertical-align: middle;\n",
       "    }\n",
       "\n",
       "    .dataframe tbody tr th {\n",
       "        vertical-align: top;\n",
       "    }\n",
       "\n",
       "    .dataframe thead th {\n",
       "        text-align: right;\n",
       "    }\n",
       "</style>\n",
       "<table border=\"1\" class=\"dataframe\">\n",
       "  <thead>\n",
       "    <tr style=\"text-align: right;\">\n",
       "      <th></th>\n",
       "      <th>duration</th>\n",
       "      <th>video_duration</th>\n",
       "    </tr>\n",
       "    <tr>\n",
       "      <th>id</th>\n",
       "      <th></th>\n",
       "      <th></th>\n",
       "    </tr>\n",
       "  </thead>\n",
       "  <tbody>\n",
       "    <tr>\n",
       "      <th>3638584</th>\n",
       "      <td>152.000</td>\n",
       "      <td>0.0</td>\n",
       "    </tr>\n",
       "    <tr>\n",
       "      <th>4266931</th>\n",
       "      <td>1279.000</td>\n",
       "      <td>171.0</td>\n",
       "    </tr>\n",
       "    <tr>\n",
       "      <th>1951586</th>\n",
       "      <td>146.692</td>\n",
       "      <td>0.0</td>\n",
       "    </tr>\n",
       "    <tr>\n",
       "      <th>6646770</th>\n",
       "      <td>10846.944</td>\n",
       "      <td>5244.0</td>\n",
       "    </tr>\n",
       "    <tr>\n",
       "      <th>3424497</th>\n",
       "      <td>75.000</td>\n",
       "      <td>0.0</td>\n",
       "    </tr>\n",
       "  </tbody>\n",
       "</table>\n",
       "</div>"
      ],
      "text/plain": [
       "          duration  video_duration\n",
       "id                                \n",
       "3638584    152.000             0.0\n",
       "4266931   1279.000           171.0\n",
       "1951586    146.692             0.0\n",
       "6646770  10846.944          5244.0\n",
       "3424497     75.000             0.0"
      ]
     },
     "execution_count": 20,
     "metadata": {},
     "output_type": "execute_result"
    }
   ],
   "source": [
    "# Numerical Variables Dataset Sample\n",
    "cleaned_df.loc[:,cleaned_df.columns.isin(numerical_columns)].sample(5)"
   ]
  },
  {
   "cell_type": "code",
   "execution_count": 21,
   "metadata": {},
   "outputs": [
    {
     "name": "stdout",
     "output_type": "stream",
     "text": [
      "\n",
      "The duration column has been assigned a datatype of : float64\n",
      "unique values: 23310\n",
      "0.0    0.272497\n",
      "2.0    0.001909\n",
      "3.0    0.001522\n",
      "4.0    0.001305\n",
      "6.0    0.001305\n",
      "Name: duration, dtype: float64\n",
      "\n",
      "The video_duration column has been assigned a datatype of : float64\n",
      "unique values: 6317\n",
      "0.0    0.536777\n",
      "1.0    0.005824\n",
      "2.0    0.004470\n",
      "3.0    0.004350\n",
      "4.0    0.003528\n",
      "Name: video_duration, dtype: float64\n"
     ]
    }
   ],
   "source": [
    "# Review numerical columns datatype, nunique values, and value_counts\n",
    "for column in numerical_columns:\n",
    "    print(\"\")\n",
    "    print(f\"The {column} column has been assigned a datatype of : {cleaned_df.dtypes[column]}\")\n",
    "    print(f\"unique values: {cleaned_df[column].nunique()}\")\n",
    "    print(cleaned_df[column].value_counts(normalize=True).head())"
   ]
  },
  {
   "cell_type": "markdown",
   "metadata": {},
   "source": [
    "### Reflection on Numerical Variables: \n",
    "- **Data types are correctly assigned**\n",
    "- Out of 23310 possible `duration` values, 27% == 0.0\n",
    "- Out of 6317 possible `video_duration` values, 54% == 0.0"
   ]
  },
  {
   "cell_type": "code",
   "execution_count": 22,
   "metadata": {},
   "outputs": [
    {
     "data": {
      "text/html": [
       "<div>\n",
       "<style scoped>\n",
       "    .dataframe tbody tr th:only-of-type {\n",
       "        vertical-align: middle;\n",
       "    }\n",
       "\n",
       "    .dataframe tbody tr th {\n",
       "        vertical-align: top;\n",
       "    }\n",
       "\n",
       "    .dataframe thead th {\n",
       "        text-align: right;\n",
       "    }\n",
       "</style>\n",
       "<table border=\"1\" class=\"dataframe\">\n",
       "  <thead>\n",
       "    <tr style=\"text-align: right;\">\n",
       "      <th></th>\n",
       "      <th>duration</th>\n",
       "      <th>video_duration</th>\n",
       "    </tr>\n",
       "  </thead>\n",
       "  <tbody>\n",
       "    <tr>\n",
       "      <th>duration</th>\n",
       "      <td>1.000000</td>\n",
       "      <td>0.142673</td>\n",
       "    </tr>\n",
       "    <tr>\n",
       "      <th>video_duration</th>\n",
       "      <td>0.142673</td>\n",
       "      <td>1.000000</td>\n",
       "    </tr>\n",
       "  </tbody>\n",
       "</table>\n",
       "</div>"
      ],
      "text/plain": [
       "                duration  video_duration\n",
       "duration        1.000000        0.142673\n",
       "video_duration  0.142673        1.000000"
      ]
     },
     "execution_count": 22,
     "metadata": {},
     "output_type": "execute_result"
    }
   ],
   "source": [
    "# check collinearity between numerical columns\n",
    "cleaned_df[numerical_columns].corr()"
   ]
  },
  {
   "cell_type": "markdown",
   "metadata": {},
   "source": [
    "These numerical variables are not correlated. "
   ]
  },
  {
   "cell_type": "markdown",
   "metadata": {},
   "source": [
    "## Categorical Variables\n"
   ]
  },
  {
   "cell_type": "code",
   "execution_count": 23,
   "metadata": {},
   "outputs": [
    {
     "data": {
      "text/html": [
       "<div>\n",
       "<style scoped>\n",
       "    .dataframe tbody tr th:only-of-type {\n",
       "        vertical-align: middle;\n",
       "    }\n",
       "\n",
       "    .dataframe tbody tr th {\n",
       "        vertical-align: top;\n",
       "    }\n",
       "\n",
       "    .dataframe thead th {\n",
       "        text-align: right;\n",
       "    }\n",
       "</style>\n",
       "<table border=\"1\" class=\"dataframe\">\n",
       "  <thead>\n",
       "    <tr style=\"text-align: right;\">\n",
       "      <th></th>\n",
       "      <th>potentially_taught</th>\n",
       "      <th>previewed</th>\n",
       "      <th>Organization Type</th>\n",
       "      <th>Country</th>\n",
       "      <th>State</th>\n",
       "      <th>NGSS Status</th>\n",
       "      <th>Grade level</th>\n",
       "    </tr>\n",
       "    <tr>\n",
       "      <th>id</th>\n",
       "      <th></th>\n",
       "      <th></th>\n",
       "      <th></th>\n",
       "      <th></th>\n",
       "      <th></th>\n",
       "      <th></th>\n",
       "      <th></th>\n",
       "    </tr>\n",
       "  </thead>\n",
       "  <tbody>\n",
       "    <tr>\n",
       "      <th>5446035</th>\n",
       "      <td>False</td>\n",
       "      <td>False</td>\n",
       "      <td>School</td>\n",
       "      <td>United States</td>\n",
       "      <td>California</td>\n",
       "      <td>transitioning</td>\n",
       "      <td>Upper</td>\n",
       "    </tr>\n",
       "    <tr>\n",
       "      <th>5926725</th>\n",
       "      <td>False</td>\n",
       "      <td>False</td>\n",
       "      <td>School</td>\n",
       "      <td>United States</td>\n",
       "      <td>South Carolina</td>\n",
       "      <td>no</td>\n",
       "      <td>2</td>\n",
       "    </tr>\n",
       "    <tr>\n",
       "      <th>7108491</th>\n",
       "      <td>False</td>\n",
       "      <td>True</td>\n",
       "      <td>School</td>\n",
       "      <td>United States</td>\n",
       "      <td>Wisconsin</td>\n",
       "      <td>no</td>\n",
       "      <td>4</td>\n",
       "    </tr>\n",
       "    <tr>\n",
       "      <th>4478150</th>\n",
       "      <td>False</td>\n",
       "      <td>False</td>\n",
       "      <td>School</td>\n",
       "      <td>United Arab Emirates</td>\n",
       "      <td>Abu Dhabi</td>\n",
       "      <td>transitioning</td>\n",
       "      <td>4</td>\n",
       "    </tr>\n",
       "    <tr>\n",
       "      <th>4382274</th>\n",
       "      <td>False</td>\n",
       "      <td>False</td>\n",
       "      <td>School</td>\n",
       "      <td>United States</td>\n",
       "      <td>Michigan</td>\n",
       "      <td>transitioning</td>\n",
       "      <td>4</td>\n",
       "    </tr>\n",
       "  </tbody>\n",
       "</table>\n",
       "</div>"
      ],
      "text/plain": [
       "         potentially_taught  previewed Organization Type  \\\n",
       "id                                                         \n",
       "5446035               False      False            School   \n",
       "5926725               False      False            School   \n",
       "7108491               False       True            School   \n",
       "4478150               False      False            School   \n",
       "4382274               False      False            School   \n",
       "\n",
       "                      Country           State    NGSS Status Grade level  \n",
       "id                                                                        \n",
       "5446035         United States      California  transitioning       Upper  \n",
       "5926725         United States  South Carolina             no           2  \n",
       "7108491         United States       Wisconsin             no           4  \n",
       "4478150  United Arab Emirates       Abu Dhabi  transitioning           4  \n",
       "4382274         United States        Michigan  transitioning           4  "
      ]
     },
     "execution_count": 23,
     "metadata": {},
     "output_type": "execute_result"
    }
   ],
   "source": [
    "# Categorical Variables Dataset Sample\n",
    "cleaned_df.loc[:,cleaned_df.columns.isin(categorical_columns)].sample(5)"
   ]
  },
  {
   "cell_type": "code",
   "execution_count": 24,
   "metadata": {},
   "outputs": [
    {
     "name": "stdout",
     "output_type": "stream",
     "text": [
      "\n",
      "The Country column has been assigned a datatype of : object\n",
      "unique values: 20\n",
      "United States           0.952566\n",
      "Canada                  0.016456\n",
      "United Arab Emirates    0.013604\n",
      "Dominican Republic      0.008868\n",
      "Thailand                0.001885\n",
      "Name: Country, dtype: float64\n",
      "\n",
      "The State column has been assigned a datatype of : object\n",
      "unique values: 78\n",
      "California    0.171395\n",
      "Kentucky      0.069471\n",
      "Michigan      0.061231\n",
      "Illinois      0.058453\n",
      "Missouri      0.047313\n",
      "Name: State, dtype: float64\n",
      "\n",
      "The NGSS Status column has been assigned a datatype of : object\n",
      "unique values: 4\n",
      "yes              0.306205\n",
      "not sure         0.293157\n",
      "transitioning    0.286270\n",
      "no               0.114368\n",
      "Name: NGSS Status, dtype: float64\n",
      "\n",
      "The Grade level column has been assigned a datatype of : object\n",
      "unique values: 53\n",
      "3    0.244756\n",
      "5    0.181882\n",
      "4    0.172845\n",
      "2    0.121545\n",
      "1    0.069036\n",
      "Name: Grade level, dtype: float64\n",
      "\n",
      "The potentially_taught column has been assigned a datatype of : bool\n",
      "unique values: 2\n",
      "False    0.848009\n",
      "True     0.151991\n",
      "Name: potentially_taught, dtype: float64\n",
      "\n",
      "The previewed column has been assigned a datatype of : bool\n",
      "unique values: 2\n",
      "False    0.612338\n",
      "True     0.387662\n",
      "Name: previewed, dtype: float64\n",
      "\n",
      "The Organization Type column has been assigned a datatype of : object\n",
      "unique values: 2\n",
      "School      0.997801\n",
      "District    0.002199\n",
      "Name: Organization Type, dtype: float64\n"
     ]
    }
   ],
   "source": [
    "# Review categorical columns datatype, nunique values, and value_counts\n",
    "for column in categorical_columns:\n",
    "    print(\"\")\n",
    "    print(f\"The {column} column has been assigned a datatype of : {cleaned_df.dtypes[column]}\")\n",
    "    print(f\"unique values: {cleaned_df[column].nunique()}\")\n",
    "    print(cleaned_df[column].value_counts(normalize=True).head())"
   ]
  },
  {
   "cell_type": "markdown",
   "metadata": {},
   "source": [
    "### Reflection on Categorical Variables\n",
    "- `previewed` and `potentially_taught` are **boolean and can be binarized**. \n",
    "- `Organization Type` **can also be binarized** since there are only 2 possible values."
   ]
  },
  {
   "cell_type": "code",
   "execution_count": 25,
   "metadata": {},
   "outputs": [],
   "source": [
    "# convert from bool to binary\n",
    "cleaned_df['potentially_taught'] = cleaned_df['potentially_taught'].astype(int)\n",
    "cleaned_df['previewed'] = cleaned_df['previewed'].astype(int)\n",
    "\n",
    "# set all District values = to 1\n",
    "cleaned_df['district?'] = np.where(cleaned_df['Organization Type'] == 'District', 1, 0)\n",
    "cleaned_df.drop(columns='Organization Type', inplace=True)\n",
    "\n",
    "# update categorical_columns list\n",
    "categorical_columns.remove('Organization Type')\n",
    "categorical_columns.append('district?')"
   ]
  },
  {
   "cell_type": "markdown",
   "metadata": {},
   "source": [
    "- `NGSS Status` has 4 values and **can be easily encoded**"
   ]
  },
  {
   "cell_type": "code",
   "execution_count": 26,
   "metadata": {},
   "outputs": [],
   "source": [
    "# encode NGSS Status\n",
    "cleaned_df = pd.get_dummies(cleaned_df, columns=['NGSS Status'], drop_first=True)\n",
    "\n",
    "# update categorical_columns list\n",
    "categorical_columns.remove('NGSS Status')\n",
    "categorical_columns.extend(list(cleaned_df.columns[-3:]))"
   ]
  },
  {
   "cell_type": "markdown",
   "metadata": {},
   "source": [
    "- Out of 20 possible `Country` values, \"United States\" is 95% of them. We can **binarize** this feature to simplify down to domestic vs international."
   ]
  },
  {
   "cell_type": "code",
   "execution_count": 27,
   "metadata": {},
   "outputs": [],
   "source": [
    "# binarize `Country` column as new column `united_states`\n",
    "cleaned_df['domestic?'] = np.where(cleaned_df.Country=='United States', 1 , 0 )\n",
    "cleaned_df.drop(columns='Country', inplace=True)\n",
    "\n",
    "# update categorical_columns list\n",
    "categorical_columns.remove('Country')\n",
    "categorical_columns.append('domestic?')"
   ]
  },
  {
   "cell_type": "markdown",
   "metadata": {},
   "source": [
    "- Out of 78 potential `State` values, \"California\" is 17% of them. We could binarize against California but spotlighting the CA vs !CA is not as useful as spotlighting the domestic vs international. Alternatively we could come back to this feature and cluster these States by the prototypical 5 regions and encode those values. But **for now we'll work without it.**"
   ]
  },
  {
   "cell_type": "code",
   "execution_count": 28,
   "metadata": {},
   "outputs": [],
   "source": [
    "# remove 'State' from df & categorical columns list.\n",
    "cleaned_df.drop(columns='State')\n",
    "categorical_columns.remove('State')"
   ]
  },
  {
   "cell_type": "markdown",
   "metadata": {},
   "source": [
    "- As we saw earlier, `Grade level` **values need to be split up into separate columns.**"
   ]
  },
  {
   "cell_type": "code",
   "execution_count": 29,
   "metadata": {},
   "outputs": [
    {
     "data": {
      "text/html": [
       "<div>\n",
       "<style scoped>\n",
       "    .dataframe tbody tr th:only-of-type {\n",
       "        vertical-align: middle;\n",
       "    }\n",
       "\n",
       "    .dataframe tbody tr th {\n",
       "        vertical-align: top;\n",
       "    }\n",
       "\n",
       "    .dataframe thead th {\n",
       "        text-align: right;\n",
       "    }\n",
       "</style>\n",
       "<table border=\"1\" class=\"dataframe\">\n",
       "  <thead>\n",
       "    <tr style=\"text-align: right;\">\n",
       "      <th></th>\n",
       "      <th>1</th>\n",
       "      <th>2</th>\n",
       "      <th>3</th>\n",
       "      <th>4</th>\n",
       "      <th>5</th>\n",
       "      <th>6</th>\n",
       "      <th>K</th>\n",
       "      <th>Pre</th>\n",
       "      <th>Upper</th>\n",
       "      <th>total_grades_taught</th>\n",
       "    </tr>\n",
       "    <tr>\n",
       "      <th>id</th>\n",
       "      <th></th>\n",
       "      <th></th>\n",
       "      <th></th>\n",
       "      <th></th>\n",
       "      <th></th>\n",
       "      <th></th>\n",
       "      <th></th>\n",
       "      <th></th>\n",
       "      <th></th>\n",
       "      <th></th>\n",
       "    </tr>\n",
       "  </thead>\n",
       "  <tbody>\n",
       "    <tr>\n",
       "      <th>7859354</th>\n",
       "      <td>0</td>\n",
       "      <td>1</td>\n",
       "      <td>0</td>\n",
       "      <td>0</td>\n",
       "      <td>0</td>\n",
       "      <td>0</td>\n",
       "      <td>0</td>\n",
       "      <td>0</td>\n",
       "      <td>0</td>\n",
       "      <td>1</td>\n",
       "    </tr>\n",
       "    <tr>\n",
       "      <th>7860521</th>\n",
       "      <td>1</td>\n",
       "      <td>1</td>\n",
       "      <td>1</td>\n",
       "      <td>1</td>\n",
       "      <td>1</td>\n",
       "      <td>0</td>\n",
       "      <td>1</td>\n",
       "      <td>0</td>\n",
       "      <td>0</td>\n",
       "      <td>6</td>\n",
       "    </tr>\n",
       "    <tr>\n",
       "      <th>7864070</th>\n",
       "      <td>0</td>\n",
       "      <td>1</td>\n",
       "      <td>0</td>\n",
       "      <td>0</td>\n",
       "      <td>0</td>\n",
       "      <td>0</td>\n",
       "      <td>0</td>\n",
       "      <td>0</td>\n",
       "      <td>0</td>\n",
       "      <td>1</td>\n",
       "    </tr>\n",
       "    <tr>\n",
       "      <th>7864235</th>\n",
       "      <td>0</td>\n",
       "      <td>1</td>\n",
       "      <td>0</td>\n",
       "      <td>0</td>\n",
       "      <td>0</td>\n",
       "      <td>0</td>\n",
       "      <td>0</td>\n",
       "      <td>0</td>\n",
       "      <td>0</td>\n",
       "      <td>1</td>\n",
       "    </tr>\n",
       "    <tr>\n",
       "      <th>7864425</th>\n",
       "      <td>0</td>\n",
       "      <td>0</td>\n",
       "      <td>0</td>\n",
       "      <td>1</td>\n",
       "      <td>1</td>\n",
       "      <td>0</td>\n",
       "      <td>0</td>\n",
       "      <td>0</td>\n",
       "      <td>0</td>\n",
       "      <td>2</td>\n",
       "    </tr>\n",
       "  </tbody>\n",
       "</table>\n",
       "</div>"
      ],
      "text/plain": [
       "         1  2  3  4  5  6  K  Pre  Upper  total_grades_taught\n",
       "id                                                           \n",
       "7859354  0  1  0  0  0  0  0    0      0                    1\n",
       "7860521  1  1  1  1  1  0  1    0      0                    6\n",
       "7864070  0  1  0  0  0  0  0    0      0                    1\n",
       "7864235  0  1  0  0  0  0  0    0      0                    1\n",
       "7864425  0  0  0  1  1  0  0    0      0                    2"
      ]
     },
     "execution_count": 29,
     "metadata": {},
     "output_type": "execute_result"
    }
   ],
   "source": [
    "# For every value in `Grade level`, strip the spaces off the edges, and split the value on ',' and \n",
    "# expand the value into a new column. then stack. \n",
    "split_grades = cleaned_df['Grade level'].str.split(', ', expand=True).stack()\n",
    "# Take the multi-indexed (stacked) grades and pass them into a DataFrame grouped by id\n",
    "encoded_grades = pd.get_dummies(split_grades).groupby(level=0).sum()\n",
    "\n",
    "# sum each row into a total grades taught column\n",
    "encoded_grades['total_grades_taught'] = encoded_grades.sum(axis=1)\n",
    "encoded_grades.tail(5)"
   ]
  },
  {
   "cell_type": "markdown",
   "metadata": {},
   "source": [
    "#### Check for multicolinearity within encoded grade levels"
   ]
  },
  {
   "cell_type": "code",
   "execution_count": 30,
   "metadata": {
    "jupyter": {
     "source_hidden": true
    }
   },
   "outputs": [
    {
     "data": {
      "image/png": "[encoded data removed]",
      "text/plain": [
       "<Figure size 1080x720 with 2 Axes>"
      ]
     },
     "metadata": {
      "needs_background": "light"
     },
     "output_type": "display_data"
    }
   ],
   "source": [
    "corr_matrix = encoded_grades.corr()\n",
    "\n",
    "# returns an array of zeros with the same shape and type as the given array. By passing in the correlation matrix, we get an array of zeros.\n",
    "# The dtype=np.bool parameter overrides the data type, so our array is an array of booleans.\n",
    "mask = np.zeros_like(corr_matrix, dtype=np.bool)\n",
    "\n",
    "# returns the indices for the upper triangle of the array and sets the upper triangle to True.\n",
    "mask[np.triu_indices_from(mask)]= True\n",
    "\n",
    "f, ax = plt.subplots(figsize=(15,10)) \n",
    "heatmap = sns.heatmap(corr_matrix, \n",
    "                      mask = mask,\n",
    "                      square = True,\n",
    "                      linewidths = .5,\n",
    "                      cmap = 'coolwarm',\n",
    "                      cbar_kws = {'shrink': .4, \n",
    "                                'ticks' : [-1, -.5, 0, 0.5, 1]},\n",
    "                      vmin = -1, \n",
    "                      vmax = 1,\n",
    "                      annot = True,\n",
    "                      annot_kws = {\"size\": 12})\n",
    "#add the column names as labels\n",
    "ax.set_yticklabels(corr_matrix.columns, rotation = 0)\n",
    "ax.set_xticklabels(corr_matrix.columns)\n",
    "sns.set_style({'xtick.bottom': True}, {'ytick.left': True})"
   ]
  },
  {
   "cell_type": "markdown",
   "metadata": {},
   "source": [
    "### Reflection on Grade Levels multicollinearity after encoding\n",
    "- This heatmap reveals that, naturally, **`total grades taught` column has the highest pearson's r score** (although still quite low) against all other values. \n",
    "- This to me indicates **we could reduce model complexity by only adding the `total grades taught` column** to the final dataset"
   ]
  },
  {
   "cell_type": "code",
   "execution_count": 31,
   "metadata": {},
   "outputs": [],
   "source": [
    "# add total_grades_taught to cleaned df\n",
    "only_total = encoded_grades['total_grades_taught']\n",
    "encoded_clean = cleaned_df.join(only_total).drop(columns='Grade level')\n",
    "\n",
    "# update categorical_columns list\n",
    "categorical_columns.remove('Grade level')\n",
    "categorical_columns.append('total_grades_taught')"
   ]
  },
  {
   "cell_type": "markdown",
   "metadata": {},
   "source": [
    "#### Check for multicollinearity within ALL CATEGORICAL variables"
   ]
  },
  {
   "cell_type": "code",
   "execution_count": 32,
   "metadata": {
    "jupyter": {
     "source_hidden": true
    }
   },
   "outputs": [
    {
     "data": {
      "image/png": "[encoded data removed]",
      "text/plain": [
       "<Figure size 720x720 with 2 Axes>"
      ]
     },
     "metadata": {
      "needs_background": "light"
     },
     "output_type": "display_data"
    }
   ],
   "source": [
    "corr_matrix = encoded_clean[categorical_columns].corr()\n",
    "\n",
    "# returns an array of zeros with the same shape and type as the given array. By passing in the correlation matrix, we get an array of zeros.\n",
    "# The dtype=np.bool parameter overrides the data type, so our array is an array of booleans.\n",
    "mask = np.zeros_like(corr_matrix, dtype=np.bool)\n",
    "\n",
    "# returns the indices for the upper triangle of the array and sets the upper triangle to True.\n",
    "mask[np.triu_indices_from(mask)]= True\n",
    "\n",
    "f, ax = plt.subplots(figsize=(10,10)) \n",
    "heatmap = sns.heatmap(corr_matrix, \n",
    "                      mask = mask,\n",
    "                      square = True,\n",
    "                      linewidths = .5,\n",
    "                      cmap = 'coolwarm',\n",
    "                      cbar_kws = {'shrink': .4, \n",
    "                                'ticks' : [-1, -.5, 0, 0.5, 1]},\n",
    "                      vmin = -1, \n",
    "                      vmax = 1,\n",
    "                      annot = True,\n",
    "                      annot_kws = {\"size\": 12})\n",
    "#add the column names as labels\n",
    "ax.set_yticklabels(corr_matrix.columns, rotation = 0)\n",
    "ax.set_xticklabels(corr_matrix.columns)\n",
    "sns.set_style({'xtick.bottom': True}, {'ytick.left': True})"
   ]
  },
  {
   "cell_type": "markdown",
   "metadata": {},
   "source": [
    "### Reflection on ALL categorical columns multicollinearity\n",
    "- This is looking great. Our categorical variables **don't show any strong multicollinearity.**\n",
    "- The `previewed x potentially_taught` interaction has the highest r score, but its still an acceptable level."
   ]
  },
  {
   "cell_type": "markdown",
   "metadata": {},
   "source": [
    "## ID Variables"
   ]
  },
  {
   "cell_type": "code",
   "execution_count": 33,
   "metadata": {},
   "outputs": [
    {
     "data": {
      "text/html": [
       "<div>\n",
       "<style scoped>\n",
       "    .dataframe tbody tr th:only-of-type {\n",
       "        vertical-align: middle;\n",
       "    }\n",
       "\n",
       "    .dataframe tbody tr th {\n",
       "        vertical-align: top;\n",
       "    }\n",
       "\n",
       "    .dataframe thead th {\n",
       "        text-align: right;\n",
       "    }\n",
       "</style>\n",
       "<table border=\"1\" class=\"dataframe\">\n",
       "  <thead>\n",
       "    <tr style=\"text-align: right;\">\n",
       "      <th></th>\n",
       "      <th>Organization ID</th>\n",
       "      <th>user_id</th>\n",
       "      <th>user_session_id</th>\n",
       "      <th>lesson_id</th>\n",
       "    </tr>\n",
       "    <tr>\n",
       "      <th>id</th>\n",
       "      <th></th>\n",
       "      <th></th>\n",
       "      <th></th>\n",
       "      <th></th>\n",
       "    </tr>\n",
       "  </thead>\n",
       "  <tbody>\n",
       "    <tr>\n",
       "      <th>3535094</th>\n",
       "      <td>12476</td>\n",
       "      <td>7670</td>\n",
       "      <td>7306328</td>\n",
       "      <td>112.0</td>\n",
       "    </tr>\n",
       "    <tr>\n",
       "      <th>3535095</th>\n",
       "      <td>12476</td>\n",
       "      <td>7670</td>\n",
       "      <td>7306328</td>\n",
       "      <td>112.0</td>\n",
       "    </tr>\n",
       "    <tr>\n",
       "      <th>3536432</th>\n",
       "      <td>12476</td>\n",
       "      <td>7670</td>\n",
       "      <td>7306328</td>\n",
       "      <td>114.0</td>\n",
       "    </tr>\n",
       "    <tr>\n",
       "      <th>3916927</th>\n",
       "      <td>345365</td>\n",
       "      <td>9148</td>\n",
       "      <td>7970073</td>\n",
       "      <td>75.0</td>\n",
       "    </tr>\n",
       "    <tr>\n",
       "      <th>5099566</th>\n",
       "      <td>345365</td>\n",
       "      <td>9148</td>\n",
       "      <td>9750729</td>\n",
       "      <td>47.0</td>\n",
       "    </tr>\n",
       "  </tbody>\n",
       "</table>\n",
       "</div>"
      ],
      "text/plain": [
       "         Organization ID  user_id  user_session_id  lesson_id\n",
       "id                                                           \n",
       "3535094            12476     7670          7306328      112.0\n",
       "3535095            12476     7670          7306328      112.0\n",
       "3536432            12476     7670          7306328      114.0\n",
       "3916927           345365     9148          7970073       75.0\n",
       "5099566           345365     9148          9750729       47.0"
      ]
     },
     "execution_count": 33,
     "metadata": {},
     "output_type": "execute_result"
    }
   ],
   "source": [
    "# ID Variables Dataset Sample\n",
    "cleaned_df[id_columns].head()"
   ]
  },
  {
   "cell_type": "code",
   "execution_count": 34,
   "metadata": {},
   "outputs": [
    {
     "name": "stdout",
     "output_type": "stream",
     "text": [
      "\n",
      "The Organization ID column has been assigned a datatype of : int64\n",
      "unique values: 657\n",
      "3280    0.029552\n",
      "3055    0.022714\n",
      "2133    0.020539\n",
      "1050    0.018220\n",
      "3081    0.016504\n",
      "Name: Organization ID, dtype: float64\n",
      "\n",
      "The user_id column has been assigned a datatype of : int64\n",
      "unique values: 2370\n",
      "955242     0.020539\n",
      "4546326    0.013483\n",
      "964766     0.008361\n",
      "4499417    0.007877\n",
      "3358703    0.007708\n",
      "Name: user_id, dtype: float64\n",
      "\n",
      "The user_session_id column has been assigned a datatype of : int64\n",
      "unique values: 26373\n",
      "7893156     0.000942\n",
      "5365315     0.000797\n",
      "6540231     0.000507\n",
      "10577980    0.000507\n",
      "5831432     0.000507\n",
      "Name: user_session_id, dtype: float64\n",
      "\n",
      "The lesson_id column has been assigned a datatype of : float64\n",
      "unique values: 91\n",
      "84.0    0.028538\n",
      "46.0    0.027619\n",
      "53.0    0.027184\n",
      "31.0    0.024913\n",
      "91.0    0.024043\n",
      "Name: lesson_id, dtype: float64\n"
     ]
    }
   ],
   "source": [
    "# Review ID columns datatype, nunique values, and value_counts\n",
    "for column in id_columns:\n",
    "    print(\"\")\n",
    "    print(f\"The {column} column has been assigned a datatype of : {cleaned_df.dtypes[column]}\")\n",
    "    print(f\"unique values: {cleaned_df[column].nunique()}\")\n",
    "    print(cleaned_df[column].value_counts(normalize=True).head())"
   ]
  },
  {
   "cell_type": "markdown",
   "metadata": {},
   "source": [
    "### Reflection on ID Variables Review\n",
    "- These columns are all labeled as int/float values but should actually be considered like strings since they're identifiers.\n",
    "- **Change all these datatypes to objects**.\n",
    "- I want to visualize if any `Organization ID`, `user_id`, or `lesson-id` (or subgroup of) is particularly more represented"
   ]
  },
  {
   "cell_type": "code",
   "execution_count": 35,
   "metadata": {},
   "outputs": [],
   "source": [
    "encoded_clean[id_columns] = encoded_clean[id_columns].astype('object')"
   ]
  },
  {
   "cell_type": "code",
   "execution_count": 36,
   "metadata": {},
   "outputs": [
    {
     "data": {
      "image/png": "[encoded data removed]",
      "text/plain": [
       "<Figure size 1440x720 with 4 Axes>"
      ]
     },
     "metadata": {
      "needs_background": "light"
     },
     "output_type": "display_data"
    }
   ],
   "source": [
    "fig, axes = plt.subplots(2,2, figsize=(20, 10), sharey=True, )\n",
    "fig.suptitle(\"Frequency of IDs\", fontsize=16)\n",
    "axes = axes.flatten()\n",
    "count=1\n",
    "# get the label and content of each column in id_columns\n",
    "for label, content in encoded_clean[id_columns].iteritems():\n",
    "#     normalize the value_counts of each column\n",
    "    valcontent = content.value_counts(normalize=True)\n",
    "#     get the right ax\n",
    "    ax= axes[count-1]\n",
    "#     and scatter the probability values against index\n",
    "    ax.scatter(valcontent.reset_index().index, valcontent.values)\n",
    "#     add average probability line\n",
    "    ax.axhline(valcontent.values.mean(), label='avg frequency', c='red')\n",
    "#     edit the ax\n",
    "    ax.set_ylabel('Frequencies')\n",
    "    ax.set_title(label)\n",
    "    ax.tick_params(reset=True)\n",
    "    \n",
    "    count+=1\n",
    "\n",
    "plt.show()"
   ]
  },
  {
   "cell_type": "markdown",
   "metadata": {},
   "source": [
    "### Reflection on ID Variables frequency plots:\n",
    "- `Organization ID` - There are **quite a few organizations that are represented more** than the average organization,\n",
    "- `user_id` - There are are a **handful of users that are represented more** than the average user.\n",
    "- `user_session_id` - as expected, this feature is almost as unique as the index itself and **should be dropped.**\n",
    "- `lesson_id` - has a fairly **good spread of representation** in this data set"
   ]
  },
  {
   "cell_type": "code",
   "execution_count": 37,
   "metadata": {},
   "outputs": [],
   "source": [
    "# drop user session id column & remove it from list of id columns \n",
    "encoded_clean.drop(columns='user_session_id', inplace=True)\n",
    "id_columns.remove('user_session_id')"
   ]
  },
  {
   "cell_type": "markdown",
   "metadata": {},
   "source": [
    "## Datetime Variables"
   ]
  },
  {
   "cell_type": "code",
   "execution_count": 38,
   "metadata": {},
   "outputs": [
    {
     "data": {
      "text/html": [
       "<div>\n",
       "<style scoped>\n",
       "    .dataframe tbody tr th:only-of-type {\n",
       "        vertical-align: middle;\n",
       "    }\n",
       "\n",
       "    .dataframe tbody tr th {\n",
       "        vertical-align: top;\n",
       "    }\n",
       "\n",
       "    .dataframe thead th {\n",
       "        text-align: right;\n",
       "    }\n",
       "</style>\n",
       "<table border=\"1\" class=\"dataframe\">\n",
       "  <thead>\n",
       "    <tr style=\"text-align: right;\">\n",
       "      <th></th>\n",
       "      <th>Sign up date</th>\n",
       "      <th>Activation date</th>\n",
       "      <th>Full Trial expiry date</th>\n",
       "      <th>started_at</th>\n",
       "      <th>created_at</th>\n",
       "      <th>updated_at</th>\n",
       "      <th>ended_at</th>\n",
       "    </tr>\n",
       "    <tr>\n",
       "      <th>id</th>\n",
       "      <th></th>\n",
       "      <th></th>\n",
       "      <th></th>\n",
       "      <th></th>\n",
       "      <th></th>\n",
       "      <th></th>\n",
       "      <th></th>\n",
       "    </tr>\n",
       "  </thead>\n",
       "  <tbody>\n",
       "    <tr>\n",
       "      <th>3782548</th>\n",
       "      <td>2016-08-26</td>\n",
       "      <td>2016-08-26</td>\n",
       "      <td>2017-06-30</td>\n",
       "      <td>2016-12-01 10:31:38 -0800</td>\n",
       "      <td>2016-12-01 10:31:38 -0800</td>\n",
       "      <td>2016-12-01 10:35:27 -0800</td>\n",
       "      <td>2016-12-01 10:34:01 -0800</td>\n",
       "    </tr>\n",
       "    <tr>\n",
       "      <th>4478150</th>\n",
       "      <td>2016-10-01</td>\n",
       "      <td>2017-01-28</td>\n",
       "      <td>2017-06-30</td>\n",
       "      <td>2017-01-28 23:49:12 -0800</td>\n",
       "      <td>2017-01-28 23:49:21 -0800</td>\n",
       "      <td>2017-01-28 23:54:24 -0800</td>\n",
       "      <td>2017-01-28 23:49:12 -0800</td>\n",
       "    </tr>\n",
       "    <tr>\n",
       "      <th>4032854</th>\n",
       "      <td>2017-01-16</td>\n",
       "      <td>2017-01-22</td>\n",
       "      <td>2017-06-30</td>\n",
       "      <td>2016-12-23 09:34:37 -0800</td>\n",
       "      <td>2016-12-23 09:34:43 -0800</td>\n",
       "      <td>2016-12-23 09:43:33 -0800</td>\n",
       "      <td>2016-12-23 09:34:37 -0800</td>\n",
       "    </tr>\n",
       "    <tr>\n",
       "      <th>5534557</th>\n",
       "      <td>2017-02-20</td>\n",
       "      <td>2017-02-20</td>\n",
       "      <td>2018-06-30</td>\n",
       "      <td>2017-03-21 03:45:18 -0700</td>\n",
       "      <td>2017-03-21 03:45:18 -0700</td>\n",
       "      <td>2017-03-21 03:52:37 -0700</td>\n",
       "      <td>2017-03-21 03:50:21 -0700</td>\n",
       "    </tr>\n",
       "    <tr>\n",
       "      <th>4670233</th>\n",
       "      <td>2017-01-19</td>\n",
       "      <td>2017-01-23</td>\n",
       "      <td>2017-06-30</td>\n",
       "      <td>2017-02-08 07:20:11 -0800</td>\n",
       "      <td>2017-02-08 07:20:11 -0800</td>\n",
       "      <td>2017-02-08 07:29:34 -0800</td>\n",
       "      <td>2017-02-08 07:20:11 -0800</td>\n",
       "    </tr>\n",
       "  </tbody>\n",
       "</table>\n",
       "</div>"
      ],
      "text/plain": [
       "        Sign up date Activation date Full Trial expiry date  \\\n",
       "id                                                            \n",
       "3782548   2016-08-26      2016-08-26             2017-06-30   \n",
       "4478150   2016-10-01      2017-01-28             2017-06-30   \n",
       "4032854   2017-01-16      2017-01-22             2017-06-30   \n",
       "5534557   2017-02-20      2017-02-20             2018-06-30   \n",
       "4670233   2017-01-19      2017-01-23             2017-06-30   \n",
       "\n",
       "                        started_at                 created_at  \\\n",
       "id                                                              \n",
       "3782548  2016-12-01 10:31:38 -0800  2016-12-01 10:31:38 -0800   \n",
       "4478150  2017-01-28 23:49:12 -0800  2017-01-28 23:49:21 -0800   \n",
       "4032854  2016-12-23 09:34:37 -0800  2016-12-23 09:34:43 -0800   \n",
       "5534557  2017-03-21 03:45:18 -0700  2017-03-21 03:45:18 -0700   \n",
       "4670233  2017-02-08 07:20:11 -0800  2017-02-08 07:20:11 -0800   \n",
       "\n",
       "                        updated_at                   ended_at  \n",
       "id                                                             \n",
       "3782548  2016-12-01 10:35:27 -0800  2016-12-01 10:34:01 -0800  \n",
       "4478150  2017-01-28 23:54:24 -0800  2017-01-28 23:49:12 -0800  \n",
       "4032854  2016-12-23 09:43:33 -0800  2016-12-23 09:34:37 -0800  \n",
       "5534557  2017-03-21 03:52:37 -0700  2017-03-21 03:50:21 -0700  \n",
       "4670233  2017-02-08 07:29:34 -0800  2017-02-08 07:20:11 -0800  "
      ]
     },
     "execution_count": 38,
     "metadata": {},
     "output_type": "execute_result"
    }
   ],
   "source": [
    "# Datetime Variables Dataset Sample\n",
    "encoded_clean[user_datetime+viewing_datetime].sample(5)"
   ]
  },
  {
   "cell_type": "code",
   "execution_count": 39,
   "metadata": {},
   "outputs": [
    {
     "name": "stdout",
     "output_type": "stream",
     "text": [
      "\n",
      "The Sign up date column has been assigned a datatype of : object\n",
      "unique values: 520\n",
      "2016-08-11    0.022545\n",
      "2015-08-20    0.021796\n",
      "2015-08-19    0.017760\n",
      "2016-08-30    0.016770\n",
      "2016-09-19    0.015900\n",
      "Name: Sign up date, dtype: float64\n",
      "\n",
      "The Activation date column has been assigned a datatype of : object\n",
      "unique values: 541\n",
      "2015-08-28    0.020660\n",
      "2016-08-11    0.016238\n",
      "2016-08-22    0.016021\n",
      "2016-08-28    0.015441\n",
      "2016-09-19    0.014329\n",
      "Name: Activation date, dtype: float64\n",
      "\n",
      "The Full Trial expiry date column has been assigned a datatype of : object\n",
      "unique values: 4\n",
      "2017-06-30    0.716026\n",
      "2016-06-30    0.217838\n",
      "2018-06-30    0.060917\n",
      "2017-07-01    0.005219\n",
      "Name: Full Trial expiry date, dtype: float64\n",
      "\n",
      "The started_at column has been assigned a datatype of : object\n",
      "unique values: 34514\n",
      "2016-09-12 22:06:27 -0700    0.000507\n",
      "2016-12-05 13:33:38 -0800    0.000411\n",
      "2016-09-02 12:08:06 -0700    0.000362\n",
      "2016-10-31 16:41:51 -0700    0.000362\n",
      "2016-09-14 10:55:17 -0700    0.000362\n",
      "Name: started_at, dtype: float64\n",
      "\n",
      "The created_at column has been assigned a datatype of : object\n",
      "unique values: 34544\n",
      "2016-09-12 22:06:27 -0700    0.000483\n",
      "2016-12-05 13:33:38 -0800    0.000411\n",
      "2016-10-31 16:41:51 -0700    0.000362\n",
      "2016-09-14 10:55:17 -0700    0.000362\n",
      "2016-09-02 12:08:06 -0700    0.000362\n",
      "Name: created_at, dtype: float64\n",
      "\n",
      "The updated_at column has been assigned a datatype of : object\n",
      "unique values: 32582\n",
      "2017-12-21 17:10:18 -0800    0.000918\n",
      "2017-12-21 19:36:15 -0800    0.000870\n",
      "2017-12-21 18:26:49 -0800    0.000870\n",
      "2017-12-21 19:14:08 -0800    0.000773\n",
      "2017-12-21 19:44:16 -0800    0.000749\n",
      "Name: updated_at, dtype: float64\n",
      "\n",
      "The ended_at column has been assigned a datatype of : object\n",
      "unique values: 37202\n",
      "2016-09-12 22:06:27 -0700    0.000483\n",
      "2016-12-05 13:33:38 -0800    0.000387\n",
      "2016-10-31 16:41:51 -0700    0.000362\n",
      "2016-09-02 12:08:06 -0700    0.000362\n",
      "2016-09-14 10:55:17 -0700    0.000338\n",
      "Name: ended_at, dtype: float64\n"
     ]
    }
   ],
   "source": [
    "# Review datetime columns datatype, nunique values, and value_counts\n",
    "for column in user_datetime+viewing_datetime :\n",
    "    print(\"\")\n",
    "    print(f\"The {column} column has been assigned a datatype of : {encoded_clean.dtypes[column]}\")\n",
    "    print(f\"unique values: {encoded_clean[column].nunique()}\")\n",
    "    print(encoded_clean[column].value_counts(normalize=True).head())"
   ]
  },
  {
   "cell_type": "markdown",
   "metadata": {},
   "source": [
    "### Reflection on DateTime Variables:\n",
    "- All these columns need to be **converted to datetime objects** so we can manipulate them further. \n",
    "- `Full Trial expiry date` only has 4 possible values. We could encode this column if we want to. Will **consider later**"
   ]
  },
  {
   "cell_type": "code",
   "execution_count": 40,
   "metadata": {},
   "outputs": [],
   "source": [
    "# convert columns to datetime objects\n",
    "encoded_clean[user_datetime] = encoded_clean[user_datetime].apply(pd.to_datetime)\n",
    "encoded_clean[viewing_datetime] = encoded_clean[viewing_datetime].apply(lambda x: pd.to_datetime(x, utc=True))"
   ]
  },
  {
   "cell_type": "code",
   "execution_count": 41,
   "metadata": {},
   "outputs": [],
   "source": [
    "# done cleaning!\n",
    "full_clean = encoded_clean.copy()"
   ]
  },
  {
   "cell_type": "markdown",
   "metadata": {},
   "source": [
    "# Feature Engineering\n",
    "\n",
    "**Reminder**: Every user who signed up during the 2016-2017 school year got a free trial which expires on June 30, 2017.\n",
    "So lets begin by creating this feature"
   ]
  },
  {
   "cell_type": "markdown",
   "metadata": {},
   "source": [
    "### Free Trial"
   ]
  },
  {
   "cell_type": "code",
   "execution_count": 42,
   "metadata": {},
   "outputs": [
    {
     "data": {
      "text/plain": [
       "1    29288\n",
       "0    12096\n",
       "Name: free_trial, dtype: int64"
      ]
     },
     "execution_count": 42,
     "metadata": {},
     "output_type": "execute_result"
    }
   ],
   "source": [
    "# set variables\n",
    "start_date = '2016-07-01'\n",
    "end_date = '2017-06-30'\n",
    "# create a mask checking if a Sign up date is after start date, and before end date.\n",
    "mask = (full_clean['Sign up date'] > start_date) & (full_clean['Sign up date'] < end_date)\n",
    "# Using the mask, set free trial == 1 where true.\n",
    "full_clean['free_trial'] = np.where(mask, 1, 0)\n",
    "# add free_trial to list of categorical columns\n",
    "categorical_columns.append('free_trial')\n",
    "# Review value counts of free trial feature\n",
    "full_clean.free_trial.value_counts()"
   ]
  },
  {
   "cell_type": "markdown",
   "metadata": {},
   "source": [
    "**...more to come...**"
   ]
  },
  {
   "cell_type": "markdown",
   "metadata": {},
   "source": [
    "## One last multicollinearity check across THE WHOLE DATASET"
   ]
  },
  {
   "cell_type": "code",
   "execution_count": 43,
   "metadata": {
    "jupyter": {
     "source_hidden": true
    }
   },
   "outputs": [
    {
     "data": {
      "image/png": "[encoded data removed]",
      "text/plain": [
       "<Figure size 1440x1440 with 2 Axes>"
      ]
     },
     "metadata": {
      "needs_background": "light"
     },
     "output_type": "display_data"
    }
   ],
   "source": [
    "corr_matrix =full_clean.corr()\n",
    "\n",
    "# returns an array of zeros with the same shape and type as the given array. By passing in the correlation matrix, we get an array of zeros.\n",
    "# The dtype=np.bool parameter overrides the data type, so our array is an array of booleans.\n",
    "mask = np.zeros_like(corr_matrix, dtype=np.bool)\n",
    "\n",
    "# returns the indices for the upper triangle of the array and sets the upper triangle to True.\n",
    "mask[np.triu_indices_from(mask)]= True\n",
    "\n",
    "f, ax = plt.subplots(figsize=(20,20)) \n",
    "heatmap = sns.heatmap(corr_matrix, \n",
    "                      mask = mask,\n",
    "                      square = True,\n",
    "                      linewidths = .5,\n",
    "                      cmap = 'coolwarm',\n",
    "                      cbar_kws = {'shrink': .4, \n",
    "                                'ticks' : [-1, -.5, 0, 0.5, 1]},\n",
    "                      vmin = -1, \n",
    "                      vmax = 1,\n",
    "                      annot = True,\n",
    "                      annot_kws = {\"size\": 12})\n",
    "#add the column names as labels\n",
    "ax.set_yticklabels(corr_matrix.columns, rotation = 0)\n",
    "ax.set_xticklabels(corr_matrix.columns)\n",
    "sns.set_style({'xtick.bottom': True}, {'ytick.left': True})"
   ]
  },
  {
   "cell_type": "markdown",
   "metadata": {},
   "source": [
    "### Reflection on whole dataset after cleaning\n",
    "- No missing values\n",
    "- No multicollinearty \n",
    "- All categorical columns encoded (or dropped otherwise)"
   ]
  },
  {
   "cell_type": "code",
   "execution_count": 44,
   "metadata": {},
   "outputs": [],
   "source": [
    "from sklearn.linear_model import LogisticRegression, Lasso\n",
    "from sklearn.model_selection import train_test_split, GridSearchCV\n",
    "from sklearn.ensemble import RandomForestClassifier\n",
    "from sklearn.metrics import accuracy_score, f1_score, confusion_matrix, classification_report\n",
    "from sklearn.metrics import plot_confusion_matrix,roc_auc_score, roc_curve, precision_recall_curve\n",
    "from sklearn.preprocessing import MinMaxScaler\n",
    "from imblearn.over_sampling import SMOTE\n",
    "from imblearn.under_sampling import RandomUnderSampler\n",
    "from imblearn.pipeline import Pipeline\n",
    "from eli5.sklearn import PermutationImportance"
   ]
  },
  {
   "cell_type": "markdown",
   "metadata": {},
   "source": [
    "# Modeling\n",
    "### What factors help predict whether or not a school will create a quote? \n",
    "\n",
    "- Because we're interested in predicting whether a **school** will create a quote, lets roll up our data to the school level to reduce overrepresented schools from biasing the data too much. \n",
    "- Because we're interested in determining strongest factors, lets use models that can rank feature importance like **DecisionTrees.**\n",
    "- And because we're interested in a model that produces **fewer false negatives**, we'll **focus on recall**\n",
    "  - (if we wanted fewer false positives, we could try precision)"
   ]
  },
  {
   "cell_type": "code",
   "execution_count": 45,
   "metadata": {},
   "outputs": [
    {
     "data": {
      "text/plain": [
       "0    0.870624\n",
       "1    0.129376\n",
       "Name: Quote created?, dtype: float64"
      ]
     },
     "execution_count": 45,
     "metadata": {},
     "output_type": "execute_result"
    }
   ],
   "source": [
    "# make a copy of the full clean df and drop user and viewing datetime columns\n",
    "master_df = full_clean.copy().drop(columns=user_datetime + viewing_datetime)\n",
    "\n",
    "# calculate the number of unique users per organization and total number of lessons viewed\n",
    "num_of_users_per_org = master_df.groupby(['Organization ID']).agg(num_of_users=('user_id','nunique'), # get a count of unique users\n",
    "                                                                  num_of_lessons=('lesson_id','count')) # get a count of total lessons viewed\n",
    "\n",
    "# Group the masterdf by Organization and calculate the mean of all numerical values then join the count of users and viewed lessons\n",
    "master_org = master_df.groupby(['Organization ID']).mean().join(num_of_users_per_org)\n",
    "\n",
    "# I'm interested in classifying a school as \"quoted\" if even one of their users has been 'quoted'. \n",
    "# Getting the max value ensures we appropriately classify schools by single user quotes.\n",
    "target_per_org = master_df.groupby(['Organization ID'])[target_variable].max()\n",
    "\n",
    "# And lets take a look our target balance\n",
    "target_per_org.value_counts(normalize=True)"
   ]
  },
  {
   "cell_type": "markdown",
   "metadata": {},
   "source": [
    "### Reflection Naive Classification Model\n",
    "- If we blindly guessed 'no' for the target variable, **our naive classifer would be 87.06% accurate** but also have a **recall score of 0** (since classifying everything as negative is 100% false negatives)\n",
    "\n",
    "So lets try and do better using a \n",
    "\n",
    "## GridSearched Random Forest"
   ]
  },
  {
   "cell_type": "code",
   "execution_count": 46,
   "metadata": {},
   "outputs": [
    {
     "name": "stdout",
     "output_type": "stream",
     "text": [
      "tuned hpyerparameters :(best parameters)  {'max_depth': 6, 'n_estimators': 145}\n",
      "              precision    recall  f1-score   support\n",
      "\n",
      "           0       0.94      0.88      0.91        17\n",
      "           1       0.50      0.67      0.57         3\n",
      "\n",
      "    accuracy                           0.85        20\n",
      "   macro avg       0.72      0.77      0.74        20\n",
      "weighted avg       0.87      0.85      0.86        20\n",
      "\n"
     ]
    },
    {
     "data": {
      "text/plain": [
       "<sklearn.metrics._plot.confusion_matrix.ConfusionMatrixDisplay at 0x7efc71168fa0>"
      ]
     },
     "execution_count": 46,
     "metadata": {},
     "output_type": "execute_result"
    },
    {
     "data": {
      "image/png": "[encoded data removed]",
      "text/plain": [
       "<Figure size 432x288 with 2 Axes>"
      ]
     },
     "metadata": {
      "needs_background": "light"
     },
     "output_type": "display_data"
    }
   ],
   "source": [
    "# Train Test split\n",
    "X = master_org.drop(columns=target_variable)\n",
    "y = target_per_org\n",
    "X_train, X_test, y_train, y_test = train_test_split(X, y, test_size=0.03, random_state=40, stratify=y)\n",
    "\n",
    "# Scale Variables\n",
    "scaler = MinMaxScaler()\n",
    "X_train = scaler.fit_transform(X_train)\n",
    "X_test = scaler.transform(X_test)\n",
    "\n",
    "# OverSample Variables\n",
    "sm = SMOTE(random_state=40) \n",
    "X_train_res, y_train_res = sm.fit_sample(X_train, y_train.ravel())\n",
    "\n",
    "# UnderSample Variables\n",
    "rus = RandomUnderSampler(random_state=40)\n",
    "X_train_res, y_train_res = rus.fit_sample(X_train_res, y_train_res.ravel())\n",
    "\n",
    "# Set grid search parameters\n",
    "n_est_range = list(range(120,161,5))   # Set the range of estimators.\n",
    "depth_range = list(range(3,7))         # Set the range of depth.\n",
    "cv = 10                                # Set the number of CrossValidations\n",
    "param_grid = [{'n_estimators': n_est_range, 'max_depth': depth_range}] \n",
    "\n",
    "# GridSearch\n",
    "rfc = RandomForestClassifier(random_state=40) \n",
    "gsRF_cv = GridSearchCV(rfc, param_grid, cv=cv,   # Just passing in the variables declared above\n",
    "                              scoring='f1',      # score best models based on F1 score\n",
    "                              n_jobs=-2)         # Uses all but one of machine's processors.\n",
    "\n",
    "# Fit the model\n",
    "gsRF_cv.fit(X_train_res, y_train_res)\n",
    "\n",
    "# Predict and print results\n",
    "predictions = gsRF_cv.predict(X_test)\n",
    "print(\"tuned hpyerparameters :(best parameters) \",gsRF_cv.best_params_)\n",
    "print(classification_report(y_test, predictions))\n",
    "plot_confusion_matrix(gsRF_cv, X_test, y_test, normalize='true')  "
   ]
  },
  {
   "cell_type": "markdown",
   "metadata": {},
   "source": [
    "### Reflection for GridSearched Random Forest\n",
    " - resulted in an **85% accuracy** and a **67% recall score**"
   ]
  },
  {
   "cell_type": "code",
   "execution_count": 47,
   "metadata": {},
   "outputs": [
    {
     "data": {
      "text/html": [
       "<div>\n",
       "<style scoped>\n",
       "    .dataframe tbody tr th:only-of-type {\n",
       "        vertical-align: middle;\n",
       "    }\n",
       "\n",
       "    .dataframe tbody tr th {\n",
       "        vertical-align: top;\n",
       "    }\n",
       "\n",
       "    .dataframe thead th {\n",
       "        text-align: right;\n",
       "    }\n",
       "</style>\n",
       "<table border=\"1\" class=\"dataframe\">\n",
       "  <thead>\n",
       "    <tr style=\"text-align: right;\">\n",
       "      <th></th>\n",
       "      <th>Gini-importance</th>\n",
       "    </tr>\n",
       "  </thead>\n",
       "  <tbody>\n",
       "    <tr>\n",
       "      <th>num_of_lessons</th>\n",
       "      <td>0.258058</td>\n",
       "    </tr>\n",
       "    <tr>\n",
       "      <th>potentially_taught</th>\n",
       "      <td>0.167850</td>\n",
       "    </tr>\n",
       "    <tr>\n",
       "      <th>num_of_users</th>\n",
       "      <td>0.096472</td>\n",
       "    </tr>\n",
       "    <tr>\n",
       "      <th>video_duration</th>\n",
       "      <td>0.090404</td>\n",
       "    </tr>\n",
       "    <tr>\n",
       "      <th>duration</th>\n",
       "      <td>0.082533</td>\n",
       "    </tr>\n",
       "  </tbody>\n",
       "</table>\n",
       "</div>"
      ],
      "text/plain": [
       "                    Gini-importance\n",
       "num_of_lessons             0.258058\n",
       "potentially_taught         0.167850\n",
       "num_of_users               0.096472\n",
       "video_duration             0.090404\n",
       "duration                   0.082533"
      ]
     },
     "execution_count": 47,
     "metadata": {},
     "output_type": "execute_result"
    }
   ],
   "source": [
    "feats = {}\n",
    "for feature, importance in zip(X.columns, gsRF_cv.best_estimator_.feature_importances_):\n",
    "    feats[feature] = importance\n",
    "\n",
    "importances = pd.DataFrame.from_dict(feats, orient='index').rename(columns={0: 'Gini-importance'})\n",
    "importances.sort_values(by='Gini-importance',ascending=False).head()"
   ]
  },
  {
   "cell_type": "markdown",
   "metadata": {},
   "source": [
    "but acccording to our RandomForestClassifier, these are the top 5 most important features"
   ]
  },
  {
   "cell_type": "code",
   "execution_count": 48,
   "metadata": {},
   "outputs": [],
   "source": [
    "top_5 = list(importances.sort_values(by='Gini-importance',ascending=False).head().index)"
   ]
  },
  {
   "cell_type": "markdown",
   "metadata": {},
   "source": [
    "So lets run a \n",
    "\n",
    "# Logistic Regression \n",
    "\n",
    "#### Vanilla Logistic Regression with top 5 features"
   ]
  },
  {
   "cell_type": "code",
   "execution_count": 49,
   "metadata": {},
   "outputs": [
    {
     "name": "stdout",
     "output_type": "stream",
     "text": [
      "              precision    recall  f1-score   support\n",
      "\n",
      "           0       0.87      0.99      0.93       115\n",
      "           1       0.00      0.00      0.00        17\n",
      "\n",
      "    accuracy                           0.86       132\n",
      "   macro avg       0.44      0.50      0.46       132\n",
      "weighted avg       0.76      0.86      0.81       132\n",
      "\n"
     ]
    },
    {
     "data": {
      "text/plain": [
       "<sklearn.metrics._plot.confusion_matrix.ConfusionMatrixDisplay at 0x7efc11a5a2e0>"
      ]
     },
     "execution_count": 49,
     "metadata": {},
     "output_type": "execute_result"
    },
    {
     "data": {
      "image/png": "[encoded data removed]",
      "text/plain": [
       "<Figure size 432x288 with 2 Axes>"
      ]
     },
     "metadata": {
      "needs_background": "light"
     },
     "output_type": "display_data"
    }
   ],
   "source": [
    "# train test split\n",
    "X = master_org[top_5]\n",
    "y = target_per_org\n",
    "X_train_top5, X_test_top5, y_train, y_test = train_test_split(X, y, test_size=0.2, random_state=40, stratify=y)\n",
    "\n",
    "# logistic regression object\n",
    "vanLR_top5 = LogisticRegression(random_state=40, penalty='l1', solver='liblinear')\n",
    "  \n",
    "# train the model on train set\n",
    "vanLR_top5.fit(X_train_top5, y_train.ravel())\n",
    "\n",
    "# predict values\n",
    "predictions = vanLR_top5.predict(X_test_top5)\n",
    "  \n",
    "# print classification report\n",
    "print(classification_report(y_test, predictions))\n",
    "plot_confusion_matrix(vanLR_top5, X_test_top5, y_test, normalize='true')  "
   ]
  },
  {
   "cell_type": "markdown",
   "metadata": {},
   "source": [
    "### Reflection for Vanilla LogisticRegression w/Top 5 features\n",
    " - resulted in an **86% accuracy** but **0% recall score**"
   ]
  },
  {
   "cell_type": "markdown",
   "metadata": {},
   "source": [
    "## GridSearch Logistic Regression with top 5 features\n",
    "#### lets try grid searching for better parameters to improve this model"
   ]
  },
  {
   "cell_type": "code",
   "execution_count": 50,
   "metadata": {},
   "outputs": [
    {
     "name": "stdout",
     "output_type": "stream",
     "text": [
      "tuned hpyerparameters :(best parameters)  {'C': 0.1}\n",
      "              precision    recall  f1-score   support\n",
      "\n",
      "           0       0.95      0.80      0.87       115\n",
      "           1       0.34      0.71      0.46        17\n",
      "\n",
      "    accuracy                           0.79       132\n",
      "   macro avg       0.65      0.75      0.66       132\n",
      "weighted avg       0.87      0.79      0.82       132\n",
      "\n"
     ]
    },
    {
     "data": {
      "text/plain": [
       "<sklearn.metrics._plot.confusion_matrix.ConfusionMatrixDisplay at 0x7efc710911c0>"
      ]
     },
     "execution_count": 50,
     "metadata": {},
     "output_type": "execute_result"
    },
    {
     "data": {
      "image/png": "[encoded data removed]",
      "text/plain": [
       "<Figure size 432x288 with 2 Axes>"
      ]
     },
     "metadata": {
      "needs_background": "light"
     },
     "output_type": "display_data"
    }
   ],
   "source": [
    "# train test split\n",
    "X = master_org[top_5]\n",
    "y = target_per_org\n",
    "X_train_top5, X_test_top5, y_train, y_test = train_test_split(X, y, test_size=0.2, random_state=40, stratify=y)\n",
    "\n",
    "# Scale Variables\n",
    "scaler = MinMaxScaler()\n",
    "X_train_top5 = scaler.fit_transform(X_train_top5)\n",
    "X_test_top5 = scaler.transform(X_test_top5)\n",
    "\n",
    "# OverSample Variables\n",
    "sm = SMOTE(random_state=40)\n",
    "X_train_res, y_train_res = sm.fit_sample(X_train_top5, y_train.ravel())\n",
    "\n",
    "# UnderSample Variables\n",
    "rus = RandomUnderSampler(random_state=40)\n",
    "X_train_res, y_train_res = rus.fit_sample(X_train_res, y_train_res.ravel())\n",
    "\n",
    "# GridSearch\n",
    "grid = {\"C\":np.logspace(-3,3,7)}\n",
    "logreg_top5 = LogisticRegression(random_state=40, penalty='l1', solver='liblinear')\n",
    "gslogreg_top5_cv = GridSearchCV(logreg_top5,grid,cv=10)\n",
    "gslogreg_top5_cv.fit(X_train_res,y_train_res)\n",
    "\n",
    "# Predictions and Results\n",
    "predictions = gslogreg_top5_cv.predict(X_test_top5)\n",
    "print(\"tuned hpyerparameters :(best parameters) \",gslogreg_top5_cv.best_params_)\n",
    "print(classification_report(y_test, predictions))\n",
    "plot_confusion_matrix(gslogreg_top5_cv, X_test_top5, y_test, normalize='true')  "
   ]
  },
  {
   "cell_type": "markdown",
   "metadata": {},
   "source": [
    "### Reflection for GridSearched Logistic Regression w/Top 5 features\n",
    "- resulted in a **79% accuracy** and **71% recall**\n",
    "\n",
    "## GridSearch Logistic Regression on all variables\n"
   ]
  },
  {
   "cell_type": "code",
   "execution_count": 51,
   "metadata": {},
   "outputs": [
    {
     "name": "stdout",
     "output_type": "stream",
     "text": [
      "tuned hpyerparameters :(best parameters)  {'C': 1.0}\n",
      "              precision    recall  f1-score   support\n",
      "\n",
      "           0       0.94      0.86      0.90       115\n",
      "           1       0.41      0.65      0.50        17\n",
      "\n",
      "    accuracy                           0.83       132\n",
      "   macro avg       0.68      0.75      0.70       132\n",
      "weighted avg       0.87      0.83      0.85       132\n",
      "\n"
     ]
    },
    {
     "data": {
      "text/plain": [
       "<sklearn.metrics._plot.confusion_matrix.ConfusionMatrixDisplay at 0x7efc71005b50>"
      ]
     },
     "execution_count": 51,
     "metadata": {},
     "output_type": "execute_result"
    },
    {
     "data": {
      "image/png": "[encoded data removed]",
      "text/plain": [
       "<Figure size 432x288 with 2 Axes>"
      ]
     },
     "metadata": {
      "needs_background": "light"
     },
     "output_type": "display_data"
    }
   ],
   "source": [
    "# train test split\n",
    "X = master_org.drop(columns=target_variable)\n",
    "y = target_per_org\n",
    "X_train, X_test, y_train, y_test = train_test_split(X, y, test_size=0.2, random_state=40, stratify=y)\n",
    "\n",
    "# Scale Variables\n",
    "scaler = MinMaxScaler()\n",
    "X_train = scaler.fit_transform(X_train)\n",
    "X_test = scaler.transform(X_test)\n",
    "\n",
    "# OverSample Variables\n",
    "sm = SMOTE(random_state=40)\n",
    "X_train_res, y_train_res = sm.fit_sample(X_train, y_train.ravel())\n",
    "\n",
    "# UnderSample Variables\n",
    "rus = RandomUnderSampler(random_state=40)\n",
    "X_train_res, y_train_res = rus.fit_sample(X_train_res, y_train_res.ravel())\n",
    "\n",
    "# GridSearch \n",
    "grid = {\"C\":np.logspace(-3,3,7)}\n",
    "gslogreg_all = LogisticRegression(random_state=40, penalty='l1',solver='liblinear')\n",
    "gslogreg_all_cv = GridSearchCV(gslogreg_all,grid,cv=10)\n",
    "gslogreg_all_cv.fit(X_train_res,y_train_res)\n",
    "\n",
    "# Predictions and Results\n",
    "predictions = gslogreg_all_cv.predict(X_test)\n",
    "print(\"tuned hpyerparameters :(best parameters) \",gslogreg_all_cv.best_params_)\n",
    "print(classification_report(y_test, predictions))\n",
    "plot_confusion_matrix(gslogreg_all_cv, X_test, y_test, normalize='true')  "
   ]
  },
  {
   "cell_type": "markdown",
   "metadata": {},
   "source": [
    "### Reflection for GridSearched LogisticRegression (with all features)\n",
    " - resulted in an **83% accuracy** and **65% recall**"
   ]
  },
  {
   "cell_type": "markdown",
   "metadata": {},
   "source": [
    "# Model Comparison\n",
    "### ROC AUC"
   ]
  },
  {
   "cell_type": "code",
   "execution_count": 52,
   "metadata": {},
   "outputs": [
    {
     "name": "stdout",
     "output_type": "stream",
     "text": [
      "No Skill: ROC AUC=0.500\n",
      "GSRFC: ROC AUC=0.941\n",
      "Vanilla LR TOP5: ROC AUC=0.814\n",
      "GRLR TOP 5: ROC AUC=0.834\n",
      "GSLR ALL: ROC AUC=0.846\n"
     ]
    },
    {
     "data": {
      "image/png": "[encoded data removed]",
      "text/plain": [
       "<Figure size 432x288 with 1 Axes>"
      ]
     },
     "metadata": {
      "needs_background": "light"
     },
     "output_type": "display_data"
    }
   ],
   "source": [
    "# generate a no skill prediction (majority class)\n",
    "ns_probs = [0 for _ in range(len(y_test))]\n",
    "\n",
    "# predict probabilities for GSRandomForest\n",
    "gsRF_cv_probs = gsRF_cv.predict_proba(X_test)[:, 1]\n",
    "\n",
    "# predict probabilities for VanillaLogReg with TOP FIVE\n",
    "vanLR_top5_probs = vanLR_top5.predict_proba(X_test_top5)[:, 1]\n",
    "\n",
    "# predict probabilities for GSLogReg with TOP FIVE\n",
    "gslogreg_top5_probs = gslogreg_top5_cv.predict_proba(X_test_top5)[:, 1]\n",
    "\n",
    "# predict probabilities for GSLogReg with ALL VARIABLES\n",
    "gslr_all_probs = gslogreg_all_cv.predict_proba(X_test)[:, 1]\n",
    "\n",
    "# calculate scores\n",
    "ns_auc = roc_auc_score(y_test, ns_probs)\n",
    "gsRF_cv_auc = roc_auc_score(y_test, gsRF_cv_probs)\n",
    "vanLR_top5_auc = roc_auc_score(y_test, vanLR_top5_probs)\n",
    "gslogreg_top5_auc = roc_auc_score(y_test, gslogreg_top5_probs)\n",
    "gslr_all_probs_auc = roc_auc_score(y_test, gslr_all_probs)\n",
    "\n",
    "# summarize scores\n",
    "print('No Skill: ROC AUC=%.3f' % (ns_auc))\n",
    "print('GSRFC: ROC AUC=%.3f' % (gsRF_cv_auc))\n",
    "print('Vanilla LR TOP5: ROC AUC=%.3f' % (vanLR_top5_auc))\n",
    "print('GRLR TOP 5: ROC AUC=%.3f' % (gslogreg_top5_auc))\n",
    "print('GSLR ALL: ROC AUC=%.3f' % (gslr_all_probs_auc))\n",
    "\n",
    "# calculate roc curves\n",
    "ns_fpr, ns_tpr, _ = roc_curve(y_test, ns_probs)\n",
    "gsRF_fpr, gsRF_tpr, _ = roc_curve(y_test, gsRF_cv_probs)\n",
    "vanLR_top5_fpr, vanLR_top5_tpr, _ = roc_curve(y_test, vanLR_top5_probs)\n",
    "gslogreg_top5_fpr, gslogreg_top5_tpr, _ = roc_curve(y_test, gslogreg_top5_probs)\n",
    "gslr_all_fpr, gslr_all_tpr, _ = roc_curve(y_test, gslr_all_probs)\n",
    "\n",
    "\n",
    "# plot the roc curve for the model\n",
    "plt.plot(ns_fpr, ns_tpr, linestyle='--', label='No Skill')\n",
    "plt.plot(gsRF_fpr, gsRF_tpr, marker='.', label='GridSearch Random Forest')\n",
    "plt.plot(vanLR_top5_fpr, vanLR_top5_tpr, marker='.', label='Vanilla LR w/Top 5')\n",
    "plt.plot(gslogreg_top5_fpr, gslogreg_top5_tpr, marker='.', label='GridSearch LR w/Top 5')\n",
    "plt.plot(gslr_all_fpr, gslr_all_tpr, marker='.', label='GridSearch LR w/All')\n",
    "\n",
    "# axis labels\n",
    "plt.xlabel('False Positive Rate')\n",
    "plt.ylabel('True Positive Rate')\n",
    "# show the legend\n",
    "plt.legend()\n",
    "# show the plot\n",
    "plt.show()"
   ]
  },
  {
   "cell_type": "markdown",
   "metadata": {},
   "source": [
    "### Precision-Recall Curves \n",
    "Precision-Recall curves should be used when there is a moderate to large class imbalance like we have"
   ]
  },
  {
   "cell_type": "code",
   "execution_count": 53,
   "metadata": {},
   "outputs": [
    {
     "data": {
      "image/png": "[encoded data removed]",
      "text/plain": [
       "<Figure size 432x288 with 1 Axes>"
      ]
     },
     "metadata": {
      "needs_background": "light"
     },
     "output_type": "display_data"
    }
   ],
   "source": [
    "# generate a no skill prediction (majority class)\n",
    "ns_probs = [0 for _ in range(len(y_test))]\n",
    "\n",
    "# predict probabilities for GSRandomForest\n",
    "gsRF_cv_probs = gsRF_cv.predict_proba(X_test)[:, 1]\n",
    "\n",
    "# predict probabilities for VanillaLogReg with TOP FIVE\n",
    "vanLR_top5_probs = vanLR_top5.predict_proba(X_test_top5)[:, 1]\n",
    "\n",
    "# predict probabilities for GSLogReg with TOP FIVE\n",
    "gslogreg_top5_probs = gslogreg_top5_cv.predict_proba(X_test_top5)[:, 1]\n",
    "\n",
    "# predict probabilities for GSLogReg with ALL VARIABLES\n",
    "gslr_all_probs = gslogreg_all_cv.predict_proba(X_test)[:, 1]\n",
    "\n",
    "# calculate precision recall curve\n",
    "gsRF_precision, gsRF_recall, _ = precision_recall_curve(y_test, gsRF_cv_probs)\n",
    "vanLRtop5_precision, vanLRtop5_recall, _ = precision_recall_curve(y_test, vanLR_top5_probs)\n",
    "gsLRtop5_precision, gsLRtop5_recall, _ = precision_recall_curve(y_test, gslogreg_top5_probs)\n",
    "gsLRall_precision, gsLRall_recall, _ = precision_recall_curve(y_test, gslr_all_probs)\n",
    "\n",
    "\n",
    "# plot the precision-recall curves\n",
    "no_skill = len(y_test[y_test==1]) / len(y_test)\n",
    "plt.plot([0, 1], [no_skill, no_skill], linestyle='--', label='No Skill')\n",
    "plt.plot(gsRF_precision, gsRF_recall, marker='.', label='GridSearch RandomForest')\n",
    "plt.plot(vanLRtop5_precision, vanLRtop5_recall, marker='.', label='Vanilla LR w/Top 5')\n",
    "plt.plot(gsLRtop5_precision, gsLRtop5_recall, marker='.', label='GridSearch LR w/Top 5')\n",
    "plt.plot(gsLRall_precision, gsLRall_recall, marker='.', label='GridSearch LR w/All')\n",
    "\n",
    "# axis labels\n",
    "plt.title('Precision-Recall Curves ')\n",
    "plt.xlabel('Recall')\n",
    "plt.ylabel('Precision')\n",
    "# show the legend\n",
    "plt.legend()\n",
    "# show the plot\n",
    "plt.show()"
   ]
  },
  {
   "cell_type": "code",
   "execution_count": null,
   "metadata": {},
   "outputs": [],
   "source": []
  },
  {
   "cell_type": "code",
   "execution_count": null,
   "metadata": {},
   "outputs": [],
   "source": []
  }
 ],
 "metadata": {
  "kernelspec": {
   "display_name": "Python 3",
   "language": "python",
   "name": "python3"
  },
  "language_info": {
   "codemirror_mode": {
    "name": "ipython",
    "version": 3
   },
   "file_extension": ".py",
   "mimetype": "text/x-python",
   "name": "python",
   "nbconvert_exporter": "python",
   "pygments_lexer": "ipython3",
   "version": "3.8.5"
  }
 },
 "nbformat": 4,
 "nbformat_minor": 4
}
